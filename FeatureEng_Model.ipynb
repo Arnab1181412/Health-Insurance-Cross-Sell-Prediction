{
  "nbformat": 4,
  "nbformat_minor": 0,
  "metadata": {
    "kernelspec": {
      "display_name": "Python 3",
      "language": "python",
      "name": "python3"
    },
    "language_info": {
      "codemirror_mode": {
        "name": "ipython",
        "version": 3
      },
      "file_extension": ".py",
      "mimetype": "text/x-python",
      "name": "python",
      "nbconvert_exporter": "python",
      "pygments_lexer": "ipython3",
      "version": "3.8.5"
    },
    "colab": {
      "name": "Feature Selection and Engineering_final.ipynb",
      "provenance": [],
      "collapsed_sections": [],
      "include_colab_link": true
    },
    "accelerator": "GPU"
  },
  "cells": [
    {
      "cell_type": "markdown",
      "metadata": {
        "id": "view-in-github",
        "colab_type": "text"
      },
      "source": [
        "<a href=\"https://colab.research.google.com/github/Arnab1181412/Health-Insurance-Cross-Sell-Prediction/blob/main/Feature_Selection_and_Engineering_final.ipynb\" target=\"_parent\"><img src=\"https://colab.research.google.com/assets/colab-badge.svg\" alt=\"Open In Colab\"/></a>"
      ]
    },
    {
      "cell_type": "code",
      "metadata": {
        "id": "3K8Ha__ss8BK"
      },
      "source": [
        "import sys\n",
        "sys.path.append('/content/drive/MyDrive/Colab Notebooks')"
      ],
      "execution_count": 2,
      "outputs": []
    },
    {
      "cell_type": "markdown",
      "metadata": {
        "id": "PRgutYLBhgfP"
      },
      "source": [
        "**Importing the Libraries**"
      ]
    },
    {
      "cell_type": "code",
      "metadata": {
        "id": "v9tGVuWHy5xb"
      },
      "source": [
        "import numpy as np\n",
        "import pandas as pd\n",
        "import matplotlib.pyplot as plt\n",
        "import seaborn as sns\n",
        "import featuretools as ft"
      ],
      "execution_count": 3,
      "outputs": []
    },
    {
      "cell_type": "code",
      "metadata": {
        "id": "WMf9O0MQy5xc"
      },
      "source": [
        "pd.set_option('display.max_rows',None)\n",
        "pd.set_option('display.max_columns',None)"
      ],
      "execution_count": 4,
      "outputs": []
    },
    {
      "cell_type": "code",
      "metadata": {
        "colab": {
          "base_uri": "https://localhost:8080/",
          "height": 234
        },
        "id": "0yQst45Ly5xc",
        "outputId": "e11afac7-7029-47fc-e613-b87e9d59d27d"
      },
      "source": [
        "dataset = pd.read_csv('/content/drive/MyDrive/Colab Notebooks/train.csv',index_col=0)\n",
        "dataset.head()"
      ],
      "execution_count": 5,
      "outputs": [
        {
          "output_type": "execute_result",
          "data": {
            "text/html": [
              "<div>\n",
              "<style scoped>\n",
              "    .dataframe tbody tr th:only-of-type {\n",
              "        vertical-align: middle;\n",
              "    }\n",
              "\n",
              "    .dataframe tbody tr th {\n",
              "        vertical-align: top;\n",
              "    }\n",
              "\n",
              "    .dataframe thead th {\n",
              "        text-align: right;\n",
              "    }\n",
              "</style>\n",
              "<table border=\"1\" class=\"dataframe\">\n",
              "  <thead>\n",
              "    <tr style=\"text-align: right;\">\n",
              "      <th></th>\n",
              "      <th>Gender</th>\n",
              "      <th>Age</th>\n",
              "      <th>Driving_License</th>\n",
              "      <th>Region_Code</th>\n",
              "      <th>Previously_Insured</th>\n",
              "      <th>Vehicle_Age</th>\n",
              "      <th>Vehicle_Damage</th>\n",
              "      <th>Annual_Premium</th>\n",
              "      <th>Policy_Sales_Channel</th>\n",
              "      <th>Vintage</th>\n",
              "      <th>Response</th>\n",
              "    </tr>\n",
              "    <tr>\n",
              "      <th>id</th>\n",
              "      <th></th>\n",
              "      <th></th>\n",
              "      <th></th>\n",
              "      <th></th>\n",
              "      <th></th>\n",
              "      <th></th>\n",
              "      <th></th>\n",
              "      <th></th>\n",
              "      <th></th>\n",
              "      <th></th>\n",
              "      <th></th>\n",
              "    </tr>\n",
              "  </thead>\n",
              "  <tbody>\n",
              "    <tr>\n",
              "      <th>1</th>\n",
              "      <td>Male</td>\n",
              "      <td>44</td>\n",
              "      <td>1</td>\n",
              "      <td>28.0</td>\n",
              "      <td>0</td>\n",
              "      <td>&gt; 2 Years</td>\n",
              "      <td>Yes</td>\n",
              "      <td>40454.0</td>\n",
              "      <td>26.0</td>\n",
              "      <td>217</td>\n",
              "      <td>1</td>\n",
              "    </tr>\n",
              "    <tr>\n",
              "      <th>2</th>\n",
              "      <td>Male</td>\n",
              "      <td>76</td>\n",
              "      <td>1</td>\n",
              "      <td>3.0</td>\n",
              "      <td>0</td>\n",
              "      <td>1-2 Year</td>\n",
              "      <td>No</td>\n",
              "      <td>33536.0</td>\n",
              "      <td>26.0</td>\n",
              "      <td>183</td>\n",
              "      <td>0</td>\n",
              "    </tr>\n",
              "    <tr>\n",
              "      <th>3</th>\n",
              "      <td>Male</td>\n",
              "      <td>47</td>\n",
              "      <td>1</td>\n",
              "      <td>28.0</td>\n",
              "      <td>0</td>\n",
              "      <td>&gt; 2 Years</td>\n",
              "      <td>Yes</td>\n",
              "      <td>38294.0</td>\n",
              "      <td>26.0</td>\n",
              "      <td>27</td>\n",
              "      <td>1</td>\n",
              "    </tr>\n",
              "    <tr>\n",
              "      <th>4</th>\n",
              "      <td>Male</td>\n",
              "      <td>21</td>\n",
              "      <td>1</td>\n",
              "      <td>11.0</td>\n",
              "      <td>1</td>\n",
              "      <td>&lt; 1 Year</td>\n",
              "      <td>No</td>\n",
              "      <td>28619.0</td>\n",
              "      <td>152.0</td>\n",
              "      <td>203</td>\n",
              "      <td>0</td>\n",
              "    </tr>\n",
              "    <tr>\n",
              "      <th>5</th>\n",
              "      <td>Female</td>\n",
              "      <td>29</td>\n",
              "      <td>1</td>\n",
              "      <td>41.0</td>\n",
              "      <td>1</td>\n",
              "      <td>&lt; 1 Year</td>\n",
              "      <td>No</td>\n",
              "      <td>27496.0</td>\n",
              "      <td>152.0</td>\n",
              "      <td>39</td>\n",
              "      <td>0</td>\n",
              "    </tr>\n",
              "  </tbody>\n",
              "</table>\n",
              "</div>"
            ],
            "text/plain": [
              "    Gender  Age  Driving_License  Region_Code  Previously_Insured Vehicle_Age  \\\n",
              "id                                                                              \n",
              "1     Male   44                1         28.0                   0   > 2 Years   \n",
              "2     Male   76                1          3.0                   0    1-2 Year   \n",
              "3     Male   47                1         28.0                   0   > 2 Years   \n",
              "4     Male   21                1         11.0                   1    < 1 Year   \n",
              "5   Female   29                1         41.0                   1    < 1 Year   \n",
              "\n",
              "   Vehicle_Damage  Annual_Premium  Policy_Sales_Channel  Vintage  Response  \n",
              "id                                                                          \n",
              "1             Yes         40454.0                  26.0      217         1  \n",
              "2              No         33536.0                  26.0      183         0  \n",
              "3             Yes         38294.0                  26.0       27         1  \n",
              "4              No         28619.0                 152.0      203         0  \n",
              "5              No         27496.0                 152.0       39         0  "
            ]
          },
          "metadata": {
            "tags": []
          },
          "execution_count": 5
        }
      ]
    },
    {
      "cell_type": "code",
      "metadata": {
        "colab": {
          "base_uri": "https://localhost:8080/"
        },
        "id": "xveBUGQ95hV3",
        "outputId": "3eeebfbf-e0df-4b36-92e8-bc4a76cc24f0"
      },
      "source": [
        "dataset = dataset.sample(frac=0.1,random_state=42)\n",
        "dataset.shape"
      ],
      "execution_count": 6,
      "outputs": [
        {
          "output_type": "execute_result",
          "data": {
            "text/plain": [
              "(38111, 11)"
            ]
          },
          "metadata": {
            "tags": []
          },
          "execution_count": 6
        }
      ]
    },
    {
      "cell_type": "code",
      "metadata": {
        "id": "W8L63OQby5xd"
      },
      "source": [
        "X = dataset.drop('Response',axis=1)\n",
        "y = dataset.Response"
      ],
      "execution_count": 7,
      "outputs": []
    },
    {
      "cell_type": "markdown",
      "metadata": {
        "id": "KwW-2xi4hoAA"
      },
      "source": [
        "**This is an Imbalanced dataset**"
      ]
    },
    {
      "cell_type": "code",
      "metadata": {
        "colab": {
          "base_uri": "https://localhost:8080/"
        },
        "id": "DZLhUjR55ygt",
        "outputId": "89d6a041-99ce-4452-fe0b-b31a1419bee7"
      },
      "source": [
        "y.value_counts()/38111*100"
      ],
      "execution_count": 8,
      "outputs": [
        {
          "output_type": "execute_result",
          "data": {
            "text/plain": [
              "0    87.449818\n",
              "1    12.550182\n",
              "Name: Response, dtype: float64"
            ]
          },
          "metadata": {
            "tags": []
          },
          "execution_count": 8
        }
      ]
    },
    {
      "cell_type": "code",
      "metadata": {
        "id": "deC4bjkey5xe",
        "colab": {
          "base_uri": "https://localhost:8080/"
        },
        "outputId": "c239f9d8-1c96-4c03-d63d-3ffa5d5d13a0"
      },
      "source": [
        "dataset.info()"
      ],
      "execution_count": 9,
      "outputs": [
        {
          "output_type": "stream",
          "text": [
            "<class 'pandas.core.frame.DataFrame'>\n",
            "Int64Index: 38111 entries, 200223 to 101469\n",
            "Data columns (total 11 columns):\n",
            " #   Column                Non-Null Count  Dtype  \n",
            "---  ------                --------------  -----  \n",
            " 0   Gender                38111 non-null  object \n",
            " 1   Age                   38111 non-null  int64  \n",
            " 2   Driving_License       38111 non-null  int64  \n",
            " 3   Region_Code           38111 non-null  float64\n",
            " 4   Previously_Insured    38111 non-null  int64  \n",
            " 5   Vehicle_Age           38111 non-null  object \n",
            " 6   Vehicle_Damage        38111 non-null  object \n",
            " 7   Annual_Premium        38111 non-null  float64\n",
            " 8   Policy_Sales_Channel  38111 non-null  float64\n",
            " 9   Vintage               38111 non-null  int64  \n",
            " 10  Response              38111 non-null  int64  \n",
            "dtypes: float64(3), int64(5), object(3)\n",
            "memory usage: 3.5+ MB\n"
          ],
          "name": "stdout"
        }
      ]
    },
    {
      "cell_type": "markdown",
      "metadata": {
        "id": "EwbOxxhOy5xe"
      },
      "source": [
        "Types of Variables"
      ]
    },
    {
      "cell_type": "markdown",
      "metadata": {
        "id": "9zd6NL1AhtUf"
      },
      "source": [
        "**0 Null values**"
      ]
    },
    {
      "cell_type": "markdown",
      "metadata": {
        "id": "fkHhI0BQhx4C"
      },
      "source": [
        "**Seperating different type of variables**"
      ]
    },
    {
      "cell_type": "code",
      "metadata": {
        "id": "j2DLCggBy5xe",
        "colab": {
          "base_uri": "https://localhost:8080/"
        },
        "outputId": "1646440c-5469-4b0a-ccd8-1001d4e547ca"
      },
      "source": [
        "numerical_cols = [col for col in X.columns if X[col].dtypes != 'O']\n",
        "numerical_cols"
      ],
      "execution_count": 10,
      "outputs": [
        {
          "output_type": "execute_result",
          "data": {
            "text/plain": [
              "['Age',\n",
              " 'Driving_License',\n",
              " 'Region_Code',\n",
              " 'Previously_Insured',\n",
              " 'Annual_Premium',\n",
              " 'Policy_Sales_Channel',\n",
              " 'Vintage']"
            ]
          },
          "metadata": {
            "tags": []
          },
          "execution_count": 10
        }
      ]
    },
    {
      "cell_type": "code",
      "metadata": {
        "id": "Wiz_iho7y5xf",
        "colab": {
          "base_uri": "https://localhost:8080/"
        },
        "outputId": "fd11a34e-16a3-4996-cd7b-bd7b00355b34"
      },
      "source": [
        "categorical_cols = [col for col in X.columns if X[col].dtypes == 'O']\n",
        "categorical_cols"
      ],
      "execution_count": 11,
      "outputs": [
        {
          "output_type": "execute_result",
          "data": {
            "text/plain": [
              "['Gender', 'Vehicle_Age', 'Vehicle_Damage']"
            ]
          },
          "metadata": {
            "tags": []
          },
          "execution_count": 11
        }
      ]
    },
    {
      "cell_type": "code",
      "metadata": {
        "id": "FaEw1GMty5xf",
        "colab": {
          "base_uri": "https://localhost:8080/"
        },
        "outputId": "e2b3e153-daeb-4db7-eb6f-45a429bc565c"
      },
      "source": [
        "continuous_numerical_cols = [col for col in numerical_cols if len(X[col].unique())>25]\n",
        "continuous_numerical_cols.remove('Region_Code')\n",
        "continuous_numerical_cols"
      ],
      "execution_count": 12,
      "outputs": [
        {
          "output_type": "execute_result",
          "data": {
            "text/plain": [
              "['Age', 'Annual_Premium', 'Policy_Sales_Channel', 'Vintage']"
            ]
          },
          "metadata": {
            "tags": []
          },
          "execution_count": 12
        }
      ]
    },
    {
      "cell_type": "code",
      "metadata": {
        "id": "6YPHleT1y5xg",
        "colab": {
          "base_uri": "https://localhost:8080/"
        },
        "outputId": "a6c8448d-ee5a-499f-a372-b99c9913f375"
      },
      "source": [
        "discrete_numerical_cols = [col for col in numerical_cols if col not in continuous_numerical_cols]\n",
        "discrete_numerical_cols"
      ],
      "execution_count": 13,
      "outputs": [
        {
          "output_type": "execute_result",
          "data": {
            "text/plain": [
              "['Driving_License', 'Region_Code', 'Previously_Insured']"
            ]
          },
          "metadata": {
            "tags": []
          },
          "execution_count": 13
        }
      ]
    },
    {
      "cell_type": "markdown",
      "metadata": {
        "id": "to71OEhth65A"
      },
      "source": [
        "**OHE for Vehicle_Damage**"
      ]
    },
    {
      "cell_type": "code",
      "metadata": {
        "id": "pdg_8k72y5xg"
      },
      "source": [
        "gender_ohe = pd.get_dummies(X['Gender'],drop_first=True)\n",
        "vehicle_damage_ohe = pd.get_dummies(X['Vehicle_Damage'],drop_first=True,prefix='Vehicle_Damage')\n",
        "X.drop(['Gender','Vehicle_Damage'],axis=1,inplace=True)\n"
      ],
      "execution_count": 14,
      "outputs": []
    },
    {
      "cell_type": "code",
      "metadata": {
        "id": "EWmI9udYy5xh",
        "colab": {
          "base_uri": "https://localhost:8080/",
          "height": 234
        },
        "outputId": "7f97d611-7092-406f-be3d-38474726ae75"
      },
      "source": [
        "X = pd.concat([X,gender_ohe,vehicle_damage_ohe],axis=1)\n",
        "X.head()"
      ],
      "execution_count": 15,
      "outputs": [
        {
          "output_type": "execute_result",
          "data": {
            "text/html": [
              "<div>\n",
              "<style scoped>\n",
              "    .dataframe tbody tr th:only-of-type {\n",
              "        vertical-align: middle;\n",
              "    }\n",
              "\n",
              "    .dataframe tbody tr th {\n",
              "        vertical-align: top;\n",
              "    }\n",
              "\n",
              "    .dataframe thead th {\n",
              "        text-align: right;\n",
              "    }\n",
              "</style>\n",
              "<table border=\"1\" class=\"dataframe\">\n",
              "  <thead>\n",
              "    <tr style=\"text-align: right;\">\n",
              "      <th></th>\n",
              "      <th>Age</th>\n",
              "      <th>Driving_License</th>\n",
              "      <th>Region_Code</th>\n",
              "      <th>Previously_Insured</th>\n",
              "      <th>Vehicle_Age</th>\n",
              "      <th>Annual_Premium</th>\n",
              "      <th>Policy_Sales_Channel</th>\n",
              "      <th>Vintage</th>\n",
              "      <th>Male</th>\n",
              "      <th>Vehicle_Damage_Yes</th>\n",
              "    </tr>\n",
              "    <tr>\n",
              "      <th>id</th>\n",
              "      <th></th>\n",
              "      <th></th>\n",
              "      <th></th>\n",
              "      <th></th>\n",
              "      <th></th>\n",
              "      <th></th>\n",
              "      <th></th>\n",
              "      <th></th>\n",
              "      <th></th>\n",
              "      <th></th>\n",
              "    </tr>\n",
              "  </thead>\n",
              "  <tbody>\n",
              "    <tr>\n",
              "      <th>200223</th>\n",
              "      <td>21</td>\n",
              "      <td>1</td>\n",
              "      <td>3.0</td>\n",
              "      <td>1</td>\n",
              "      <td>&lt; 1 Year</td>\n",
              "      <td>20408.0</td>\n",
              "      <td>160.0</td>\n",
              "      <td>72</td>\n",
              "      <td>0</td>\n",
              "      <td>0</td>\n",
              "    </tr>\n",
              "    <tr>\n",
              "      <th>49767</th>\n",
              "      <td>55</td>\n",
              "      <td>1</td>\n",
              "      <td>15.0</td>\n",
              "      <td>0</td>\n",
              "      <td>1-2 Year</td>\n",
              "      <td>37498.0</td>\n",
              "      <td>26.0</td>\n",
              "      <td>102</td>\n",
              "      <td>1</td>\n",
              "      <td>1</td>\n",
              "    </tr>\n",
              "    <tr>\n",
              "      <th>172202</th>\n",
              "      <td>41</td>\n",
              "      <td>1</td>\n",
              "      <td>3.0</td>\n",
              "      <td>0</td>\n",
              "      <td>1-2 Year</td>\n",
              "      <td>2630.0</td>\n",
              "      <td>26.0</td>\n",
              "      <td>90</td>\n",
              "      <td>0</td>\n",
              "      <td>1</td>\n",
              "    </tr>\n",
              "    <tr>\n",
              "      <th>160714</th>\n",
              "      <td>26</td>\n",
              "      <td>1</td>\n",
              "      <td>11.0</td>\n",
              "      <td>0</td>\n",
              "      <td>&lt; 1 Year</td>\n",
              "      <td>2630.0</td>\n",
              "      <td>151.0</td>\n",
              "      <td>268</td>\n",
              "      <td>0</td>\n",
              "      <td>0</td>\n",
              "    </tr>\n",
              "    <tr>\n",
              "      <th>53273</th>\n",
              "      <td>51</td>\n",
              "      <td>1</td>\n",
              "      <td>40.0</td>\n",
              "      <td>0</td>\n",
              "      <td>1-2 Year</td>\n",
              "      <td>34006.0</td>\n",
              "      <td>124.0</td>\n",
              "      <td>265</td>\n",
              "      <td>1</td>\n",
              "      <td>1</td>\n",
              "    </tr>\n",
              "  </tbody>\n",
              "</table>\n",
              "</div>"
            ],
            "text/plain": [
              "        Age  Driving_License  Region_Code  Previously_Insured Vehicle_Age  \\\n",
              "id                                                                          \n",
              "200223   21                1          3.0                   1    < 1 Year   \n",
              "49767    55                1         15.0                   0    1-2 Year   \n",
              "172202   41                1          3.0                   0    1-2 Year   \n",
              "160714   26                1         11.0                   0    < 1 Year   \n",
              "53273    51                1         40.0                   0    1-2 Year   \n",
              "\n",
              "        Annual_Premium  Policy_Sales_Channel  Vintage  Male  \\\n",
              "id                                                            \n",
              "200223         20408.0                 160.0       72     0   \n",
              "49767          37498.0                  26.0      102     1   \n",
              "172202          2630.0                  26.0       90     0   \n",
              "160714          2630.0                 151.0      268     0   \n",
              "53273          34006.0                 124.0      265     1   \n",
              "\n",
              "        Vehicle_Damage_Yes  \n",
              "id                          \n",
              "200223                   0  \n",
              "49767                    1  \n",
              "172202                   1  \n",
              "160714                   0  \n",
              "53273                    1  "
            ]
          },
          "metadata": {
            "tags": []
          },
          "execution_count": 15
        }
      ]
    },
    {
      "cell_type": "markdown",
      "metadata": {
        "id": "QJz7RU90iEK0"
      },
      "source": [
        "**Manual Label Encoding for Vehicle_Age column (For ref :- See the EDA notebook)**"
      ]
    },
    {
      "cell_type": "code",
      "metadata": {
        "id": "5cJElfu0y5xh"
      },
      "source": [
        "for i,j in enumerate(X['Vehicle_Age'].unique().tolist()[::-1]):\n",
        "    X['Vehicle_Age'] = np.where(X['Vehicle_Age']==j,i+1,X['Vehicle_Age'])"
      ],
      "execution_count": 16,
      "outputs": []
    },
    {
      "cell_type": "code",
      "metadata": {
        "id": "WkNfnw-7y5xi",
        "colab": {
          "base_uri": "https://localhost:8080/",
          "height": 234
        },
        "outputId": "18634c71-b95b-4096-f72c-04beb52f7c9c"
      },
      "source": [
        "X.head()"
      ],
      "execution_count": 17,
      "outputs": [
        {
          "output_type": "execute_result",
          "data": {
            "text/html": [
              "<div>\n",
              "<style scoped>\n",
              "    .dataframe tbody tr th:only-of-type {\n",
              "        vertical-align: middle;\n",
              "    }\n",
              "\n",
              "    .dataframe tbody tr th {\n",
              "        vertical-align: top;\n",
              "    }\n",
              "\n",
              "    .dataframe thead th {\n",
              "        text-align: right;\n",
              "    }\n",
              "</style>\n",
              "<table border=\"1\" class=\"dataframe\">\n",
              "  <thead>\n",
              "    <tr style=\"text-align: right;\">\n",
              "      <th></th>\n",
              "      <th>Age</th>\n",
              "      <th>Driving_License</th>\n",
              "      <th>Region_Code</th>\n",
              "      <th>Previously_Insured</th>\n",
              "      <th>Vehicle_Age</th>\n",
              "      <th>Annual_Premium</th>\n",
              "      <th>Policy_Sales_Channel</th>\n",
              "      <th>Vintage</th>\n",
              "      <th>Male</th>\n",
              "      <th>Vehicle_Damage_Yes</th>\n",
              "    </tr>\n",
              "    <tr>\n",
              "      <th>id</th>\n",
              "      <th></th>\n",
              "      <th></th>\n",
              "      <th></th>\n",
              "      <th></th>\n",
              "      <th></th>\n",
              "      <th></th>\n",
              "      <th></th>\n",
              "      <th></th>\n",
              "      <th></th>\n",
              "      <th></th>\n",
              "    </tr>\n",
              "  </thead>\n",
              "  <tbody>\n",
              "    <tr>\n",
              "      <th>200223</th>\n",
              "      <td>21</td>\n",
              "      <td>1</td>\n",
              "      <td>3.0</td>\n",
              "      <td>1</td>\n",
              "      <td>3</td>\n",
              "      <td>20408.0</td>\n",
              "      <td>160.0</td>\n",
              "      <td>72</td>\n",
              "      <td>0</td>\n",
              "      <td>0</td>\n",
              "    </tr>\n",
              "    <tr>\n",
              "      <th>49767</th>\n",
              "      <td>55</td>\n",
              "      <td>1</td>\n",
              "      <td>15.0</td>\n",
              "      <td>0</td>\n",
              "      <td>2</td>\n",
              "      <td>37498.0</td>\n",
              "      <td>26.0</td>\n",
              "      <td>102</td>\n",
              "      <td>1</td>\n",
              "      <td>1</td>\n",
              "    </tr>\n",
              "    <tr>\n",
              "      <th>172202</th>\n",
              "      <td>41</td>\n",
              "      <td>1</td>\n",
              "      <td>3.0</td>\n",
              "      <td>0</td>\n",
              "      <td>2</td>\n",
              "      <td>2630.0</td>\n",
              "      <td>26.0</td>\n",
              "      <td>90</td>\n",
              "      <td>0</td>\n",
              "      <td>1</td>\n",
              "    </tr>\n",
              "    <tr>\n",
              "      <th>160714</th>\n",
              "      <td>26</td>\n",
              "      <td>1</td>\n",
              "      <td>11.0</td>\n",
              "      <td>0</td>\n",
              "      <td>3</td>\n",
              "      <td>2630.0</td>\n",
              "      <td>151.0</td>\n",
              "      <td>268</td>\n",
              "      <td>0</td>\n",
              "      <td>0</td>\n",
              "    </tr>\n",
              "    <tr>\n",
              "      <th>53273</th>\n",
              "      <td>51</td>\n",
              "      <td>1</td>\n",
              "      <td>40.0</td>\n",
              "      <td>0</td>\n",
              "      <td>2</td>\n",
              "      <td>34006.0</td>\n",
              "      <td>124.0</td>\n",
              "      <td>265</td>\n",
              "      <td>1</td>\n",
              "      <td>1</td>\n",
              "    </tr>\n",
              "  </tbody>\n",
              "</table>\n",
              "</div>"
            ],
            "text/plain": [
              "        Age  Driving_License  Region_Code  Previously_Insured Vehicle_Age  \\\n",
              "id                                                                          \n",
              "200223   21                1          3.0                   1           3   \n",
              "49767    55                1         15.0                   0           2   \n",
              "172202   41                1          3.0                   0           2   \n",
              "160714   26                1         11.0                   0           3   \n",
              "53273    51                1         40.0                   0           2   \n",
              "\n",
              "        Annual_Premium  Policy_Sales_Channel  Vintage  Male  \\\n",
              "id                                                            \n",
              "200223         20408.0                 160.0       72     0   \n",
              "49767          37498.0                  26.0      102     1   \n",
              "172202          2630.0                  26.0       90     0   \n",
              "160714          2630.0                 151.0      268     0   \n",
              "53273          34006.0                 124.0      265     1   \n",
              "\n",
              "        Vehicle_Damage_Yes  \n",
              "id                          \n",
              "200223                   0  \n",
              "49767                    1  \n",
              "172202                   1  \n",
              "160714                   0  \n",
              "53273                    1  "
            ]
          },
          "metadata": {
            "tags": []
          },
          "execution_count": 17
        }
      ]
    },
    {
      "cell_type": "markdown",
      "metadata": {
        "id": "cH3OO1TviSYK"
      },
      "source": [
        "**Handling the Imbalanced dataset**"
      ]
    },
    {
      "cell_type": "code",
      "metadata": {
        "id": "A68bTlv8y5xi",
        "colab": {
          "base_uri": "https://localhost:8080/"
        },
        "outputId": "a4384112-dd47-454a-b189-4036e7aeefd4"
      },
      "source": [
        "from  imblearn.combine import SMOTETomek\n",
        "os = SMOTETomek(random_state=0)\n",
        "X_os,y_os = os.fit_resample(X,y)"
      ],
      "execution_count": 18,
      "outputs": [
        {
          "output_type": "stream",
          "text": [
            "/usr/local/lib/python3.7/dist-packages/sklearn/externals/six.py:31: FutureWarning: The module is deprecated in version 0.21 and will be removed in version 0.23 since we've dropped support for Python 2.7. Please rely on the official version of six (https://pypi.org/project/six/).\n",
            "  \"(https://pypi.org/project/six/).\", FutureWarning)\n",
            "/usr/local/lib/python3.7/dist-packages/sklearn/utils/deprecation.py:144: FutureWarning: The sklearn.neighbors.base module is  deprecated in version 0.22 and will be removed in version 0.24. The corresponding classes / functions should instead be imported from sklearn.neighbors. Anything that cannot be imported from sklearn.neighbors is now part of the private API.\n",
            "  warnings.warn(message, FutureWarning)\n",
            "/usr/local/lib/python3.7/dist-packages/sklearn/utils/deprecation.py:87: FutureWarning: Function safe_indexing is deprecated; safe_indexing is deprecated in version 0.22 and will be removed in version 0.24.\n",
            "  warnings.warn(msg, category=FutureWarning)\n",
            "/usr/local/lib/python3.7/dist-packages/sklearn/utils/deprecation.py:87: FutureWarning: Function safe_indexing is deprecated; safe_indexing is deprecated in version 0.22 and will be removed in version 0.24.\n",
            "  warnings.warn(msg, category=FutureWarning)\n"
          ],
          "name": "stderr"
        }
      ]
    },
    {
      "cell_type": "code",
      "metadata": {
        "id": "QtCYUq0SUDz5"
      },
      "source": [
        "X_os = pd.DataFrame(X_os,columns = X.columns)\n",
        "y_os = pd.DataFrame(y_os)"
      ],
      "execution_count": 19,
      "outputs": []
    },
    {
      "cell_type": "code",
      "metadata": {
        "id": "AkXlzTzPy5xj"
      },
      "source": [
        "from sklearn.model_selection import train_test_split\n",
        "X_train,X_valid,y_train,y_valid = train_test_split(X_os,y_os,random_state=42,test_size=0.25)\n"
      ],
      "execution_count": 20,
      "outputs": []
    },
    {
      "cell_type": "code",
      "metadata": {
        "id": "alg5HA1wy5xj"
      },
      "source": [
        "from sklearn.preprocessing import StandardScaler\n",
        "scalar = StandardScaler()\n",
        "X_train = pd.DataFrame(scalar.fit_transform(X_train),columns = X_os.columns)\n",
        "X_valid = pd.DataFrame(scalar.transform(X_valid),columns = X_os.columns)"
      ],
      "execution_count": 21,
      "outputs": []
    },
    {
      "cell_type": "code",
      "metadata": {
        "id": "MfYns5BYy5xk",
        "colab": {
          "base_uri": "https://localhost:8080/",
          "height": 203
        },
        "outputId": "859963eb-b6a9-48da-8f50-e3351d0d4099"
      },
      "source": [
        "X_train.head()"
      ],
      "execution_count": 22,
      "outputs": [
        {
          "output_type": "execute_result",
          "data": {
            "text/html": [
              "<div>\n",
              "<style scoped>\n",
              "    .dataframe tbody tr th:only-of-type {\n",
              "        vertical-align: middle;\n",
              "    }\n",
              "\n",
              "    .dataframe tbody tr th {\n",
              "        vertical-align: top;\n",
              "    }\n",
              "\n",
              "    .dataframe thead th {\n",
              "        text-align: right;\n",
              "    }\n",
              "</style>\n",
              "<table border=\"1\" class=\"dataframe\">\n",
              "  <thead>\n",
              "    <tr style=\"text-align: right;\">\n",
              "      <th></th>\n",
              "      <th>Age</th>\n",
              "      <th>Driving_License</th>\n",
              "      <th>Region_Code</th>\n",
              "      <th>Previously_Insured</th>\n",
              "      <th>Vehicle_Age</th>\n",
              "      <th>Annual_Premium</th>\n",
              "      <th>Policy_Sales_Channel</th>\n",
              "      <th>Vintage</th>\n",
              "      <th>Male</th>\n",
              "      <th>Vehicle_Damage_Yes</th>\n",
              "    </tr>\n",
              "  </thead>\n",
              "  <tbody>\n",
              "    <tr>\n",
              "      <th>0</th>\n",
              "      <td>0.072242</td>\n",
              "      <td>0.033087</td>\n",
              "      <td>-0.709230</td>\n",
              "      <td>-0.599637</td>\n",
              "      <td>-0.465709</td>\n",
              "      <td>0.802011</td>\n",
              "      <td>-1.412777</td>\n",
              "      <td>-0.198075</td>\n",
              "      <td>-0.185449</td>\n",
              "      <td>0.648585</td>\n",
              "    </tr>\n",
              "    <tr>\n",
              "      <th>1</th>\n",
              "      <td>-0.548088</td>\n",
              "      <td>0.033087</td>\n",
              "      <td>0.447220</td>\n",
              "      <td>-0.599637</td>\n",
              "      <td>0.405275</td>\n",
              "      <td>-0.038342</td>\n",
              "      <td>0.909625</td>\n",
              "      <td>1.205091</td>\n",
              "      <td>-0.227414</td>\n",
              "      <td>0.648585</td>\n",
              "    </tr>\n",
              "    <tr>\n",
              "      <th>2</th>\n",
              "      <td>2.244438</td>\n",
              "      <td>0.033087</td>\n",
              "      <td>0.139391</td>\n",
              "      <td>-0.599637</td>\n",
              "      <td>-0.465709</td>\n",
              "      <td>1.046080</td>\n",
              "      <td>-1.412777</td>\n",
              "      <td>0.121647</td>\n",
              "      <td>0.932943</td>\n",
              "      <td>0.648585</td>\n",
              "    </tr>\n",
              "    <tr>\n",
              "      <th>3</th>\n",
              "      <td>-1.348478</td>\n",
              "      <td>0.033087</td>\n",
              "      <td>1.541922</td>\n",
              "      <td>-0.599637</td>\n",
              "      <td>1.401763</td>\n",
              "      <td>-0.648168</td>\n",
              "      <td>0.880489</td>\n",
              "      <td>-0.917956</td>\n",
              "      <td>0.932943</td>\n",
              "      <td>0.648585</td>\n",
              "    </tr>\n",
              "    <tr>\n",
              "      <th>4</th>\n",
              "      <td>-1.420336</td>\n",
              "      <td>0.033087</td>\n",
              "      <td>-0.933132</td>\n",
              "      <td>-0.599637</td>\n",
              "      <td>1.401763</td>\n",
              "      <td>-0.124437</td>\n",
              "      <td>0.880489</td>\n",
              "      <td>0.659794</td>\n",
              "      <td>0.932943</td>\n",
              "      <td>0.648585</td>\n",
              "    </tr>\n",
              "  </tbody>\n",
              "</table>\n",
              "</div>"
            ],
            "text/plain": [
              "        Age  Driving_License  Region_Code  Previously_Insured  Vehicle_Age  \\\n",
              "0  0.072242         0.033087    -0.709230           -0.599637    -0.465709   \n",
              "1 -0.548088         0.033087     0.447220           -0.599637     0.405275   \n",
              "2  2.244438         0.033087     0.139391           -0.599637    -0.465709   \n",
              "3 -1.348478         0.033087     1.541922           -0.599637     1.401763   \n",
              "4 -1.420336         0.033087    -0.933132           -0.599637     1.401763   \n",
              "\n",
              "   Annual_Premium  Policy_Sales_Channel   Vintage      Male  \\\n",
              "0        0.802011             -1.412777 -0.198075 -0.185449   \n",
              "1       -0.038342              0.909625  1.205091 -0.227414   \n",
              "2        1.046080             -1.412777  0.121647  0.932943   \n",
              "3       -0.648168              0.880489 -0.917956  0.932943   \n",
              "4       -0.124437              0.880489  0.659794  0.932943   \n",
              "\n",
              "   Vehicle_Damage_Yes  \n",
              "0            0.648585  \n",
              "1            0.648585  \n",
              "2            0.648585  \n",
              "3            0.648585  \n",
              "4            0.648585  "
            ]
          },
          "metadata": {
            "tags": []
          },
          "execution_count": 22
        }
      ]
    },
    {
      "cell_type": "code",
      "metadata": {
        "id": "wESrkp7Xy5xl",
        "colab": {
          "base_uri": "https://localhost:8080/"
        },
        "outputId": "df54f4a6-61b4-4433-ddd6-6d629c016777"
      },
      "source": [
        "from sklearn.feature_selection import VarianceThreshold\n",
        "var_thres = VarianceThreshold(0)\n",
        "var_thres.fit(X_train)\n",
        "var_thres.get_support()"
      ],
      "execution_count": 23,
      "outputs": [
        {
          "output_type": "execute_result",
          "data": {
            "text/plain": [
              "array([ True,  True,  True,  True,  True,  True,  True,  True,  True,\n",
              "        True])"
            ]
          },
          "metadata": {
            "tags": []
          },
          "execution_count": 23
        }
      ]
    },
    {
      "cell_type": "markdown",
      "metadata": {
        "id": "mRWn00RziX2o"
      },
      "source": [
        "**Creating New feautures using Deep Feature Synthesis (DFS)**"
      ]
    },
    {
      "cell_type": "code",
      "metadata": {
        "colab": {
          "base_uri": "https://localhost:8080/"
        },
        "id": "3MdmPPNwWpMf",
        "outputId": "854ae745-e115-4437-a141-c38ed5a75d68"
      },
      "source": [
        "es = ft.EntitySet(id = 'health')\n",
        "es.entity_from_dataframe(entity_id = 'hr', dataframe = X_train, index = 'index')\n",
        "\n",
        "# Run deep feature synthesis with transformation primitives\n",
        "feature_matrix, feature_defs = ft.dfs(entityset = es, target_entity = 'hr',\n",
        "                                      trans_primitives = ['add_numeric', 'multiply_numeric'], \n",
        "                                      verbose=True)"
      ],
      "execution_count": 24,
      "outputs": [
        {
          "output_type": "stream",
          "text": [
            "/content/drive/MyDrive/Colab Notebooks/featuretools/entityset/entity.py:463: UserWarning: index index not found in dataframe, creating new integer column\n",
            "  \"integer column\".format(index))\n"
          ],
          "name": "stderr"
        },
        {
          "output_type": "stream",
          "text": [
            "Built 100 features\n",
            "\rElapsed: 00:00 | Progress:   0%|          "
          ],
          "name": "stdout"
        },
        {
          "output_type": "stream",
          "text": [
            "/content/drive/MyDrive/Colab Notebooks/featuretools/synthesis/deep_feature_synthesis.py:152: UserWarning: Only one entity in entityset, changing max_depth to 1 since deeper features cannot be created\n",
            "  warnings.warn(\"Only one entity in entityset, changing max_depth to \"\n"
          ],
          "name": "stderr"
        },
        {
          "output_type": "stream",
          "text": [
            "Elapsed: 00:00 | Progress: 100%|██████████\n"
          ],
          "name": "stdout"
        }
      ]
    },
    {
      "cell_type": "markdown",
      "metadata": {
        "id": "j9VAT4ngihYS"
      },
      "source": [
        "**Getting the columns whose corelation is less**"
      ]
    },
    {
      "cell_type": "code",
      "metadata": {
        "id": "W6uwiopdwCdb"
      },
      "source": [
        "def correlation(df,threshold):\n",
        "    data = df.copy()\n",
        "    corr_columns = set()\n",
        "    corr = data.corr()\n",
        "    for i in range(len(corr.columns)):\n",
        "        for j in range(i):\n",
        "            if abs(corr.iloc[i,j])>threshold:\n",
        "                corr_columns.add(corr.columns[i])\n",
        "            \n",
        "    return corr_columns"
      ],
      "execution_count": 25,
      "outputs": []
    },
    {
      "cell_type": "code",
      "metadata": {
        "colab": {
          "base_uri": "https://localhost:8080/"
        },
        "id": "I96Xn999wLtY",
        "outputId": "b91e93d9-38d1-483c-c035-e327ebe7b65b"
      },
      "source": [
        "imp_columns = correlation(feature_matrix.copy(),0.85)\n",
        "imp_columns"
      ],
      "execution_count": 27,
      "outputs": [
        {
          "output_type": "execute_result",
          "data": {
            "text/plain": [
              "{'Age * Driving_License',\n",
              " 'Male * Vehicle_Damage_Yes',\n",
              " 'Policy_Sales_Channel + Vehicle_Age',\n",
              " 'Previously_Insured * Vehicle_Damage_Yes',\n",
              " 'Previously_Insured + Vehicle_Age',\n",
              " 'Vehicle_Age * Vehicle_Damage_Yes',\n",
              " 'Vehicle_Damage_Yes',\n",
              " 'Vehicle_Damage_Yes * Vintage'}"
            ]
          },
          "metadata": {
            "tags": []
          },
          "execution_count": 27
        }
      ]
    },
    {
      "cell_type": "code",
      "metadata": {
        "colab": {
          "base_uri": "https://localhost:8080/",
          "height": 250
        },
        "id": "PKF-sgmmyETv",
        "outputId": "94ef532c-3289-40f0-da9f-4913407d64f3"
      },
      "source": [
        "feature_matrix  = feature_matrix[imp_columns]\n",
        "feature_matrix.head()"
      ],
      "execution_count": 28,
      "outputs": [
        {
          "output_type": "execute_result",
          "data": {
            "text/html": [
              "<div>\n",
              "<style scoped>\n",
              "    .dataframe tbody tr th:only-of-type {\n",
              "        vertical-align: middle;\n",
              "    }\n",
              "\n",
              "    .dataframe tbody tr th {\n",
              "        vertical-align: top;\n",
              "    }\n",
              "\n",
              "    .dataframe thead th {\n",
              "        text-align: right;\n",
              "    }\n",
              "</style>\n",
              "<table border=\"1\" class=\"dataframe\">\n",
              "  <thead>\n",
              "    <tr style=\"text-align: right;\">\n",
              "      <th></th>\n",
              "      <th>Previously_Insured * Vehicle_Damage_Yes</th>\n",
              "      <th>Previously_Insured + Vehicle_Age</th>\n",
              "      <th>Age * Driving_License</th>\n",
              "      <th>Policy_Sales_Channel + Vehicle_Age</th>\n",
              "      <th>Vehicle_Age * Vehicle_Damage_Yes</th>\n",
              "      <th>Vehicle_Damage_Yes * Vintage</th>\n",
              "      <th>Male * Vehicle_Damage_Yes</th>\n",
              "      <th>Vehicle_Damage_Yes</th>\n",
              "    </tr>\n",
              "    <tr>\n",
              "      <th>index</th>\n",
              "      <th></th>\n",
              "      <th></th>\n",
              "      <th></th>\n",
              "      <th></th>\n",
              "      <th></th>\n",
              "      <th></th>\n",
              "      <th></th>\n",
              "      <th></th>\n",
              "    </tr>\n",
              "  </thead>\n",
              "  <tbody>\n",
              "    <tr>\n",
              "      <th>0</th>\n",
              "      <td>-0.388915</td>\n",
              "      <td>-1.065346</td>\n",
              "      <td>0.002390</td>\n",
              "      <td>-1.878486</td>\n",
              "      <td>-0.302052</td>\n",
              "      <td>-0.128468</td>\n",
              "      <td>-0.120279</td>\n",
              "      <td>0.648585</td>\n",
              "    </tr>\n",
              "    <tr>\n",
              "      <th>1</th>\n",
              "      <td>-0.388915</td>\n",
              "      <td>-0.194362</td>\n",
              "      <td>-0.018135</td>\n",
              "      <td>1.314900</td>\n",
              "      <td>0.262855</td>\n",
              "      <td>0.781604</td>\n",
              "      <td>-0.147497</td>\n",
              "      <td>0.648585</td>\n",
              "    </tr>\n",
              "    <tr>\n",
              "      <th>2</th>\n",
              "      <td>-0.388915</td>\n",
              "      <td>-1.065346</td>\n",
              "      <td>0.074262</td>\n",
              "      <td>-1.878486</td>\n",
              "      <td>-0.302052</td>\n",
              "      <td>0.078898</td>\n",
              "      <td>0.605093</td>\n",
              "      <td>0.648585</td>\n",
              "    </tr>\n",
              "    <tr>\n",
              "      <th>3</th>\n",
              "      <td>-0.388915</td>\n",
              "      <td>0.802126</td>\n",
              "      <td>-0.044618</td>\n",
              "      <td>2.282252</td>\n",
              "      <td>0.909162</td>\n",
              "      <td>-0.595372</td>\n",
              "      <td>0.605093</td>\n",
              "      <td>0.648585</td>\n",
              "    </tr>\n",
              "    <tr>\n",
              "      <th>4</th>\n",
              "      <td>-0.388915</td>\n",
              "      <td>0.802126</td>\n",
              "      <td>-0.046995</td>\n",
              "      <td>2.282252</td>\n",
              "      <td>0.909162</td>\n",
              "      <td>0.427932</td>\n",
              "      <td>0.605093</td>\n",
              "      <td>0.648585</td>\n",
              "    </tr>\n",
              "  </tbody>\n",
              "</table>\n",
              "</div>"
            ],
            "text/plain": [
              "       Previously_Insured * Vehicle_Damage_Yes  \\\n",
              "index                                            \n",
              "0                                    -0.388915   \n",
              "1                                    -0.388915   \n",
              "2                                    -0.388915   \n",
              "3                                    -0.388915   \n",
              "4                                    -0.388915   \n",
              "\n",
              "       Previously_Insured + Vehicle_Age  Age * Driving_License  \\\n",
              "index                                                            \n",
              "0                             -1.065346               0.002390   \n",
              "1                             -0.194362              -0.018135   \n",
              "2                             -1.065346               0.074262   \n",
              "3                              0.802126              -0.044618   \n",
              "4                              0.802126              -0.046995   \n",
              "\n",
              "       Policy_Sales_Channel + Vehicle_Age  Vehicle_Age * Vehicle_Damage_Yes  \\\n",
              "index                                                                         \n",
              "0                               -1.878486                         -0.302052   \n",
              "1                                1.314900                          0.262855   \n",
              "2                               -1.878486                         -0.302052   \n",
              "3                                2.282252                          0.909162   \n",
              "4                                2.282252                          0.909162   \n",
              "\n",
              "       Vehicle_Damage_Yes * Vintage  Male * Vehicle_Damage_Yes  \\\n",
              "index                                                            \n",
              "0                         -0.128468                  -0.120279   \n",
              "1                          0.781604                  -0.147497   \n",
              "2                          0.078898                   0.605093   \n",
              "3                         -0.595372                   0.605093   \n",
              "4                          0.427932                   0.605093   \n",
              "\n",
              "       Vehicle_Damage_Yes  \n",
              "index                      \n",
              "0                0.648585  \n",
              "1                0.648585  \n",
              "2                0.648585  \n",
              "3                0.648585  \n",
              "4                0.648585  "
            ]
          },
          "metadata": {
            "tags": []
          },
          "execution_count": 28
        }
      ]
    },
    {
      "cell_type": "code",
      "metadata": {
        "id": "fXsd1UoPy5xm",
        "colab": {
          "base_uri": "https://localhost:8080/",
          "height": 250
        },
        "outputId": "b09702bd-c70d-4eb6-fb80-a106f3a91d9e"
      },
      "source": [
        "X_train_red = feature_matrix\n",
        "X_train_red.head()"
      ],
      "execution_count": 29,
      "outputs": [
        {
          "output_type": "execute_result",
          "data": {
            "text/html": [
              "<div>\n",
              "<style scoped>\n",
              "    .dataframe tbody tr th:only-of-type {\n",
              "        vertical-align: middle;\n",
              "    }\n",
              "\n",
              "    .dataframe tbody tr th {\n",
              "        vertical-align: top;\n",
              "    }\n",
              "\n",
              "    .dataframe thead th {\n",
              "        text-align: right;\n",
              "    }\n",
              "</style>\n",
              "<table border=\"1\" class=\"dataframe\">\n",
              "  <thead>\n",
              "    <tr style=\"text-align: right;\">\n",
              "      <th></th>\n",
              "      <th>Previously_Insured * Vehicle_Damage_Yes</th>\n",
              "      <th>Previously_Insured + Vehicle_Age</th>\n",
              "      <th>Age * Driving_License</th>\n",
              "      <th>Policy_Sales_Channel + Vehicle_Age</th>\n",
              "      <th>Vehicle_Age * Vehicle_Damage_Yes</th>\n",
              "      <th>Vehicle_Damage_Yes * Vintage</th>\n",
              "      <th>Male * Vehicle_Damage_Yes</th>\n",
              "      <th>Vehicle_Damage_Yes</th>\n",
              "    </tr>\n",
              "    <tr>\n",
              "      <th>index</th>\n",
              "      <th></th>\n",
              "      <th></th>\n",
              "      <th></th>\n",
              "      <th></th>\n",
              "      <th></th>\n",
              "      <th></th>\n",
              "      <th></th>\n",
              "      <th></th>\n",
              "    </tr>\n",
              "  </thead>\n",
              "  <tbody>\n",
              "    <tr>\n",
              "      <th>0</th>\n",
              "      <td>-0.388915</td>\n",
              "      <td>-1.065346</td>\n",
              "      <td>0.002390</td>\n",
              "      <td>-1.878486</td>\n",
              "      <td>-0.302052</td>\n",
              "      <td>-0.128468</td>\n",
              "      <td>-0.120279</td>\n",
              "      <td>0.648585</td>\n",
              "    </tr>\n",
              "    <tr>\n",
              "      <th>1</th>\n",
              "      <td>-0.388915</td>\n",
              "      <td>-0.194362</td>\n",
              "      <td>-0.018135</td>\n",
              "      <td>1.314900</td>\n",
              "      <td>0.262855</td>\n",
              "      <td>0.781604</td>\n",
              "      <td>-0.147497</td>\n",
              "      <td>0.648585</td>\n",
              "    </tr>\n",
              "    <tr>\n",
              "      <th>2</th>\n",
              "      <td>-0.388915</td>\n",
              "      <td>-1.065346</td>\n",
              "      <td>0.074262</td>\n",
              "      <td>-1.878486</td>\n",
              "      <td>-0.302052</td>\n",
              "      <td>0.078898</td>\n",
              "      <td>0.605093</td>\n",
              "      <td>0.648585</td>\n",
              "    </tr>\n",
              "    <tr>\n",
              "      <th>3</th>\n",
              "      <td>-0.388915</td>\n",
              "      <td>0.802126</td>\n",
              "      <td>-0.044618</td>\n",
              "      <td>2.282252</td>\n",
              "      <td>0.909162</td>\n",
              "      <td>-0.595372</td>\n",
              "      <td>0.605093</td>\n",
              "      <td>0.648585</td>\n",
              "    </tr>\n",
              "    <tr>\n",
              "      <th>4</th>\n",
              "      <td>-0.388915</td>\n",
              "      <td>0.802126</td>\n",
              "      <td>-0.046995</td>\n",
              "      <td>2.282252</td>\n",
              "      <td>0.909162</td>\n",
              "      <td>0.427932</td>\n",
              "      <td>0.605093</td>\n",
              "      <td>0.648585</td>\n",
              "    </tr>\n",
              "  </tbody>\n",
              "</table>\n",
              "</div>"
            ],
            "text/plain": [
              "       Previously_Insured * Vehicle_Damage_Yes  \\\n",
              "index                                            \n",
              "0                                    -0.388915   \n",
              "1                                    -0.388915   \n",
              "2                                    -0.388915   \n",
              "3                                    -0.388915   \n",
              "4                                    -0.388915   \n",
              "\n",
              "       Previously_Insured + Vehicle_Age  Age * Driving_License  \\\n",
              "index                                                            \n",
              "0                             -1.065346               0.002390   \n",
              "1                             -0.194362              -0.018135   \n",
              "2                             -1.065346               0.074262   \n",
              "3                              0.802126              -0.044618   \n",
              "4                              0.802126              -0.046995   \n",
              "\n",
              "       Policy_Sales_Channel + Vehicle_Age  Vehicle_Age * Vehicle_Damage_Yes  \\\n",
              "index                                                                         \n",
              "0                               -1.878486                         -0.302052   \n",
              "1                                1.314900                          0.262855   \n",
              "2                               -1.878486                         -0.302052   \n",
              "3                                2.282252                          0.909162   \n",
              "4                                2.282252                          0.909162   \n",
              "\n",
              "       Vehicle_Damage_Yes * Vintage  Male * Vehicle_Damage_Yes  \\\n",
              "index                                                            \n",
              "0                         -0.128468                  -0.120279   \n",
              "1                          0.781604                  -0.147497   \n",
              "2                          0.078898                   0.605093   \n",
              "3                         -0.595372                   0.605093   \n",
              "4                          0.427932                   0.605093   \n",
              "\n",
              "       Vehicle_Damage_Yes  \n",
              "index                      \n",
              "0                0.648585  \n",
              "1                0.648585  \n",
              "2                0.648585  \n",
              "3                0.648585  \n",
              "4                0.648585  "
            ]
          },
          "metadata": {
            "tags": []
          },
          "execution_count": 29
        }
      ]
    },
    {
      "cell_type": "markdown",
      "metadata": {
        "id": "Mmu0uLiiir8X"
      },
      "source": [
        "**For X_valid**"
      ]
    },
    {
      "cell_type": "code",
      "metadata": {
        "colab": {
          "base_uri": "https://localhost:8080/"
        },
        "id": "RWo_7o4rb7Cj",
        "outputId": "3fc269b9-ba8f-475e-c101-d29cf02c48a9"
      },
      "source": [
        "es_valid = ft.EntitySet(id = 'health_test')\n",
        "es_valid.entity_from_dataframe(entity_id = 'hr', dataframe = X_valid, index = 'index')\n",
        "\n",
        "# Run deep feature synthesis with transformation primitives\n",
        "feature_matrix_test, feature_defs_test = ft.dfs(entityset = es_valid, target_entity = 'hr',\n",
        "                                      trans_primitives = ['add_numeric', 'multiply_numeric'], \n",
        "                                      verbose=True)"
      ],
      "execution_count": 30,
      "outputs": [
        {
          "output_type": "stream",
          "text": [
            "Built 100 features\n",
            "Elapsed: 00:00 | Progress: 100%|██████████\n"
          ],
          "name": "stdout"
        },
        {
          "output_type": "stream",
          "text": [
            "/content/drive/MyDrive/Colab Notebooks/featuretools/entityset/entity.py:463: UserWarning: index index not found in dataframe, creating new integer column\n",
            "  \"integer column\".format(index))\n",
            "/content/drive/MyDrive/Colab Notebooks/featuretools/synthesis/deep_feature_synthesis.py:152: UserWarning: Only one entity in entityset, changing max_depth to 1 since deeper features cannot be created\n",
            "  warnings.warn(\"Only one entity in entityset, changing max_depth to \"\n"
          ],
          "name": "stderr"
        }
      ]
    },
    {
      "cell_type": "code",
      "metadata": {
        "id": "06WxBQuyy5xn"
      },
      "source": [
        "X_valid_red = feature_matrix_test[feature_matrix.columns]"
      ],
      "execution_count": null,
      "outputs": []
    },
    {
      "cell_type": "markdown",
      "metadata": {
        "id": "KDHxfuTsi3F_"
      },
      "source": [
        "**Using cross validation to see which model will perform best**"
      ]
    },
    {
      "cell_type": "code",
      "metadata": {
        "id": "oU-_US_38Qdv"
      },
      "source": [
        "from sklearn.ensemble import RandomForestClassifier,AdaBoostClassifier\n",
        "from xgboost import  XGBClassifier\n",
        "from sklearn.svm import SVC\n",
        "from sklearn.tree import  DecisionTreeClassifier\n",
        "from sklearn.model_selection import cross_val_score"
      ],
      "execution_count": 31,
      "outputs": []
    },
    {
      "cell_type": "code",
      "metadata": {
        "id": "YR61t-kFc5ar"
      },
      "source": [
        "def modelpicker(models):\n",
        "  summary = {}\n",
        "  for i in models:\n",
        "    accuracy = cross_val_score(i,feature_matrix,y_train,scoring='accuracy',cv=5,n_jobs=-1).mean()\n",
        "    summary[i] = accuracy\n",
        "    print(summary)\n",
        "  return summary\n"
      ],
      "execution_count": null,
      "outputs": []
    },
    {
      "cell_type": "code",
      "metadata": {
        "colab": {
          "base_uri": "https://localhost:8080/"
        },
        "id": "BVRcsK7ceBTY",
        "outputId": "bc627390-f86c-4f4b-da63-6609bac45d4a"
      },
      "source": [
        "models = [RandomForestClassifier(),AdaBoostClassifier(),SVC(),XGBClassifier(),DecisionTreeClassifier()]\n",
        "modelpicker(models)"
      ],
      "execution_count": null,
      "outputs": [
        {
          "output_type": "stream",
          "text": [
            "{RandomForestClassifier(bootstrap=True, ccp_alpha=0.0, class_weight=None,\n",
            "                       criterion='gini', max_depth=None, max_features='auto',\n",
            "                       max_leaf_nodes=None, max_samples=None,\n",
            "                       min_impurity_decrease=0.0, min_impurity_split=None,\n",
            "                       min_samples_leaf=1, min_samples_split=2,\n",
            "                       min_weight_fraction_leaf=0.0, n_estimators=100,\n",
            "                       n_jobs=None, oob_score=False, random_state=None,\n",
            "                       verbose=0, warm_start=False): 0.8882804397427918}\n",
            "{RandomForestClassifier(bootstrap=True, ccp_alpha=0.0, class_weight=None,\n",
            "                       criterion='gini', max_depth=None, max_features='auto',\n",
            "                       max_leaf_nodes=None, max_samples=None,\n",
            "                       min_impurity_decrease=0.0, min_impurity_split=None,\n",
            "                       min_samples_leaf=1, min_samples_split=2,\n",
            "                       min_weight_fraction_leaf=0.0, n_estimators=100,\n",
            "                       n_jobs=None, oob_score=False, random_state=None,\n",
            "                       verbose=0, warm_start=False): 0.8882804397427918, AdaBoostClassifier(algorithm='SAMME.R', base_estimator=None, learning_rate=1.0,\n",
            "                   n_estimators=50, random_state=None): 0.8589296826384567}\n",
            "{RandomForestClassifier(bootstrap=True, ccp_alpha=0.0, class_weight=None,\n",
            "                       criterion='gini', max_depth=None, max_features='auto',\n",
            "                       max_leaf_nodes=None, max_samples=None,\n",
            "                       min_impurity_decrease=0.0, min_impurity_split=None,\n",
            "                       min_samples_leaf=1, min_samples_split=2,\n",
            "                       min_weight_fraction_leaf=0.0, n_estimators=100,\n",
            "                       n_jobs=None, oob_score=False, random_state=None,\n",
            "                       verbose=0, warm_start=False): 0.8882804397427918, AdaBoostClassifier(algorithm='SAMME.R', base_estimator=None, learning_rate=1.0,\n",
            "                   n_estimators=50, random_state=None): 0.8589296826384567, SVC(C=1.0, break_ties=False, cache_size=200, class_weight=None, coef0=0.0,\n",
            "    decision_function_shape='ovr', degree=3, gamma='scale', kernel='rbf',\n",
            "    max_iter=-1, probability=False, random_state=None, shrinking=True,\n",
            "    tol=0.001, verbose=False): 0.8233146650072598}\n"
          ],
          "name": "stdout"
        },
        {
          "output_type": "stream",
          "text": [
            "/usr/local/lib/python3.7/dist-packages/joblib/externals/loky/process_executor.py:691: UserWarning:\n",
            "\n",
            "A worker stopped while some jobs were given to the executor. This can be caused by a too short worker timeout or by a memory leak.\n",
            "\n"
          ],
          "name": "stderr"
        },
        {
          "output_type": "stream",
          "text": [
            "{RandomForestClassifier(bootstrap=True, ccp_alpha=0.0, class_weight=None,\n",
            "                       criterion='gini', max_depth=None, max_features='auto',\n",
            "                       max_leaf_nodes=None, max_samples=None,\n",
            "                       min_impurity_decrease=0.0, min_impurity_split=None,\n",
            "                       min_samples_leaf=1, min_samples_split=2,\n",
            "                       min_weight_fraction_leaf=0.0, n_estimators=100,\n",
            "                       n_jobs=None, oob_score=False, random_state=None,\n",
            "                       verbose=0, warm_start=False): 0.8882804397427918, AdaBoostClassifier(algorithm='SAMME.R', base_estimator=None, learning_rate=1.0,\n",
            "                   n_estimators=50, random_state=None): 0.8589296826384567, SVC(C=1.0, break_ties=False, cache_size=200, class_weight=None, coef0=0.0,\n",
            "    decision_function_shape='ovr', degree=3, gamma='scale', kernel='rbf',\n",
            "    max_iter=-1, probability=False, random_state=None, shrinking=True,\n",
            "    tol=0.001, verbose=False): 0.8233146650072598, XGBClassifier(base_score=None, booster=None, colsample_bylevel=None,\n",
            "              colsample_bynode=None, colsample_bytree=None, gamma=None,\n",
            "              gpu_id=None, importance_type='gain', interaction_constraints=None,\n",
            "              learning_rate=None, max_delta_step=None, max_depth=None,\n",
            "              min_child_weight=None, missing=nan, monotone_constraints=None,\n",
            "              n_estimators=100, n_jobs=None, num_parallel_tree=None,\n",
            "              objective='binary:logistic', random_state=None, reg_alpha=None,\n",
            "              reg_lambda=None, scale_pos_weight=None, subsample=None,\n",
            "              tree_method=None, use_label_encoder=True,\n",
            "              validate_parameters=None, verbosity=None): 0.9159510475005185}\n",
            "{RandomForestClassifier(bootstrap=True, ccp_alpha=0.0, class_weight=None,\n",
            "                       criterion='gini', max_depth=None, max_features='auto',\n",
            "                       max_leaf_nodes=None, max_samples=None,\n",
            "                       min_impurity_decrease=0.0, min_impurity_split=None,\n",
            "                       min_samples_leaf=1, min_samples_split=2,\n",
            "                       min_weight_fraction_leaf=0.0, n_estimators=100,\n",
            "                       n_jobs=None, oob_score=False, random_state=None,\n",
            "                       verbose=0, warm_start=False): 0.8882804397427918, AdaBoostClassifier(algorithm='SAMME.R', base_estimator=None, learning_rate=1.0,\n",
            "                   n_estimators=50, random_state=None): 0.8589296826384567, SVC(C=1.0, break_ties=False, cache_size=200, class_weight=None, coef0=0.0,\n",
            "    decision_function_shape='ovr', degree=3, gamma='scale', kernel='rbf',\n",
            "    max_iter=-1, probability=False, random_state=None, shrinking=True,\n",
            "    tol=0.001, verbose=False): 0.8233146650072598, XGBClassifier(base_score=None, booster=None, colsample_bylevel=None,\n",
            "              colsample_bynode=None, colsample_bytree=None, gamma=None,\n",
            "              gpu_id=None, importance_type='gain', interaction_constraints=None,\n",
            "              learning_rate=None, max_delta_step=None, max_depth=None,\n",
            "              min_child_weight=None, missing=nan, monotone_constraints=None,\n",
            "              n_estimators=100, n_jobs=None, num_parallel_tree=None,\n",
            "              objective='binary:logistic', random_state=None, reg_alpha=None,\n",
            "              reg_lambda=None, scale_pos_weight=None, subsample=None,\n",
            "              tree_method=None, use_label_encoder=True,\n",
            "              validate_parameters=None, verbosity=None): 0.9159510475005185, DecisionTreeClassifier(ccp_alpha=0.0, class_weight=None, criterion='gini',\n",
            "                       max_depth=None, max_features=None, max_leaf_nodes=None,\n",
            "                       min_impurity_decrease=0.0, min_impurity_split=None,\n",
            "                       min_samples_leaf=1, min_samples_split=2,\n",
            "                       min_weight_fraction_leaf=0.0, presort='deprecated',\n",
            "                       random_state=None, splitter='best'): 0.8795892968263846}\n"
          ],
          "name": "stdout"
        },
        {
          "output_type": "execute_result",
          "data": {
            "text/plain": [
              "{AdaBoostClassifier(algorithm='SAMME.R', base_estimator=None, learning_rate=1.0,\n",
              "                    n_estimators=50, random_state=None): 0.8589296826384567,\n",
              " DecisionTreeClassifier(ccp_alpha=0.0, class_weight=None, criterion='gini',\n",
              "                        max_depth=None, max_features=None, max_leaf_nodes=None,\n",
              "                        min_impurity_decrease=0.0, min_impurity_split=None,\n",
              "                        min_samples_leaf=1, min_samples_split=2,\n",
              "                        min_weight_fraction_leaf=0.0, presort='deprecated',\n",
              "                        random_state=None, splitter='best'): 0.8795892968263846,\n",
              " RandomForestClassifier(bootstrap=True, ccp_alpha=0.0, class_weight=None,\n",
              "                        criterion='gini', max_depth=None, max_features='auto',\n",
              "                        max_leaf_nodes=None, max_samples=None,\n",
              "                        min_impurity_decrease=0.0, min_impurity_split=None,\n",
              "                        min_samples_leaf=1, min_samples_split=2,\n",
              "                        min_weight_fraction_leaf=0.0, n_estimators=100,\n",
              "                        n_jobs=None, oob_score=False, random_state=None,\n",
              "                        verbose=0, warm_start=False): 0.8882804397427918,\n",
              " SVC(C=1.0, break_ties=False, cache_size=200, class_weight=None, coef0=0.0,\n",
              "     decision_function_shape='ovr', degree=3, gamma='scale', kernel='rbf',\n",
              "     max_iter=-1, probability=False, random_state=None, shrinking=True,\n",
              "     tol=0.001, verbose=False): 0.8233146650072598,\n",
              " XGBClassifier(base_score=None, booster=None, colsample_bylevel=None,\n",
              "               colsample_bynode=None, colsample_bytree=None, gamma=None,\n",
              "               gpu_id=None, importance_type='gain', interaction_constraints=None,\n",
              "               learning_rate=None, max_delta_step=None, max_depth=None,\n",
              "               min_child_weight=None, missing=nan, monotone_constraints=None,\n",
              "               n_estimators=100, n_jobs=None, num_parallel_tree=None,\n",
              "               objective='binary:logistic', random_state=None, reg_alpha=None,\n",
              "               reg_lambda=None, scale_pos_weight=None, subsample=None,\n",
              "               tree_method=None, use_label_encoder=True,\n",
              "               validate_parameters=None, verbosity=None): 0.9159510475005185}"
            ]
          },
          "metadata": {
            "tags": []
          },
          "execution_count": 72
        }
      ]
    },
    {
      "cell_type": "markdown",
      "metadata": {
        "id": "qw2mvyg17wZd"
      },
      "source": [
        "**XGboost has highest training accuracy ie; 0.9159510475005185**"
      ]
    },
    {
      "cell_type": "markdown",
      "metadata": {
        "id": "T8VB5FGQjCQc"
      },
      "source": [
        "**HyperParameter Tuning**"
      ]
    },
    {
      "cell_type": "code",
      "metadata": {
        "id": "fXbrX1SmZMhs"
      },
      "source": [
        "import optuna\n",
        "from xgboost import XGBClassifier\n",
        "def objective(trial):\n",
        "  learning_rate = trial.suggest_float('learning_rate',0.05,0.3,step = 0.05)\n",
        "  max_depth = trial.suggest_int('max_depth',3,20,1)\n",
        "  min_child_weight = trial.suggest_int('min_child_weight',1,8,2) \n",
        "  gamma = trial.suggest_float('gamma',0.0,0.5,step = 0.1)\n",
        "  colsample_bytree = trial.suggest_float('colsample_bytree',0.3,0.9,step = 0.1)\n",
        "  n_estimators = trial.suggest_int('n_estimators',200,1000,50)\n",
        "  clf = XGBClassifier(n_estimators=n_estimators,learning_rate=learning_rate,\n",
        "                      max_depth = max_depth,min_child_weight = min_child_weight,\n",
        "                      gamma = gamma,colsample_bytree = colsample_bytree)\n",
        "  return cross_val_score(clf,feature_matrix,y_train,n_jobs=-1,cv = 3).mean()\n",
        "  "
      ],
      "execution_count": null,
      "outputs": []
    },
    {
      "cell_type": "code",
      "metadata": {
        "colab": {
          "base_uri": "https://localhost:8080/",
          "height": 1000
        },
        "id": "or0ZnIRGeU6X",
        "outputId": "7b8c92d6-d4a8-42b5-96f4-44aeca0cc6af"
      },
      "source": [
        "study = optuna.create_study(direction='maximize')\n",
        "study.optimize(objective,n_trials = 100)\n"
      ],
      "execution_count": null,
      "outputs": [
        {
          "output_type": "stream",
          "text": [
            "\u001b[32m[I 2021-07-03 08:29:22,098]\u001b[0m A new study created in memory with name: no-name-bcb73b87-a06e-4f39-9ff5-49d38de7d885\u001b[0m\n",
            "/content/drive/MyDrive/Colab Notebooks/optuna/distributions.py:563: UserWarning:\n",
            "\n",
            "The distribution is specified by [1, 8] and step=2, but the range is not divisible by `step`. It will be replaced by [1, 7].\n",
            "\n",
            "\u001b[32m[I 2021-07-03 08:29:38,010]\u001b[0m Trial 0 finished with value: 0.9112217382285833 and parameters: {'learning_rate': 0.05, 'max_depth': 8, 'min_child_weight': 7, 'gamma': 0.4, 'colsample_bytree': 0.5, 'n_estimators': 300}. Best is trial 0 with value: 0.9112217382285833.\u001b[0m\n",
            "/content/drive/MyDrive/Colab Notebooks/optuna/distributions.py:563: UserWarning:\n",
            "\n",
            "The distribution is specified by [1, 8] and step=2, but the range is not divisible by `step`. It will be replaced by [1, 7].\n",
            "\n",
            "\u001b[32m[I 2021-07-03 08:30:51,039]\u001b[0m Trial 1 finished with value: 0.9082970338104128 and parameters: {'learning_rate': 0.2, 'max_depth': 11, 'min_child_weight': 3, 'gamma': 0.2, 'colsample_bytree': 0.8, 'n_estimators': 1000}. Best is trial 0 with value: 0.9112217382285833.\u001b[0m\n",
            "/content/drive/MyDrive/Colab Notebooks/optuna/distributions.py:563: UserWarning:\n",
            "\n",
            "The distribution is specified by [1, 8] and step=2, but the range is not divisible by `step`. It will be replaced by [1, 7].\n",
            "\n",
            "\u001b[32m[I 2021-07-03 08:31:07,988]\u001b[0m Trial 2 finished with value: 0.9065753992947521 and parameters: {'learning_rate': 0.05, 'max_depth': 7, 'min_child_weight': 3, 'gamma': 0.30000000000000004, 'colsample_bytree': 0.9, 'n_estimators': 300}. Best is trial 0 with value: 0.9112217382285833.\u001b[0m\n",
            "/content/drive/MyDrive/Colab Notebooks/optuna/distributions.py:563: UserWarning:\n",
            "\n",
            "The distribution is specified by [1, 8] and step=2, but the range is not divisible by `step`. It will be replaced by [1, 7].\n",
            "\n",
            "\u001b[32m[I 2021-07-03 08:31:46,623]\u001b[0m Trial 3 finished with value: 0.9131093134204522 and parameters: {'learning_rate': 0.1, 'max_depth': 16, 'min_child_weight': 3, 'gamma': 0.5, 'colsample_bytree': 0.7, 'n_estimators': 400}. Best is trial 3 with value: 0.9131093134204522.\u001b[0m\n",
            "/content/drive/MyDrive/Colab Notebooks/optuna/distributions.py:563: UserWarning:\n",
            "\n",
            "The distribution is specified by [1, 8] and step=2, but the range is not divisible by `step`. It will be replaced by [1, 7].\n",
            "\n",
            "\u001b[32m[I 2021-07-03 08:32:54,543]\u001b[0m Trial 4 finished with value: 0.9148516905206389 and parameters: {'learning_rate': 0.05, 'max_depth': 16, 'min_child_weight': 1, 'gamma': 0.0, 'colsample_bytree': 0.4, 'n_estimators': 950}. Best is trial 4 with value: 0.9148516905206389.\u001b[0m\n",
            "/content/drive/MyDrive/Colab Notebooks/optuna/distributions.py:563: UserWarning:\n",
            "\n",
            "The distribution is specified by [1, 8] and step=2, but the range is not divisible by `step`. It will be replaced by [1, 7].\n",
            "\n",
            "\u001b[32m[I 2021-07-03 08:33:05,234]\u001b[0m Trial 5 finished with value: 0.9150591163658991 and parameters: {'learning_rate': 0.3, 'max_depth': 15, 'min_child_weight': 5, 'gamma': 0.5, 'colsample_bytree': 0.3, 'n_estimators': 250}. Best is trial 5 with value: 0.9150591163658991.\u001b[0m\n",
            "/content/drive/MyDrive/Colab Notebooks/optuna/distributions.py:563: UserWarning:\n",
            "\n",
            "The distribution is specified by [1, 8] and step=2, but the range is not divisible by `step`. It will be replaced by [1, 7].\n",
            "\n",
            "\u001b[32m[I 2021-07-03 08:33:52,716]\u001b[0m Trial 6 finished with value: 0.9152872847956856 and parameters: {'learning_rate': 0.05, 'max_depth': 8, 'min_child_weight': 1, 'gamma': 0.30000000000000004, 'colsample_bytree': 0.9, 'n_estimators': 750}. Best is trial 6 with value: 0.9152872847956856.\u001b[0m\n",
            "/content/drive/MyDrive/Colab Notebooks/optuna/distributions.py:563: UserWarning:\n",
            "\n",
            "The distribution is specified by [1, 8] and step=2, but the range is not divisible by `step`. It will be replaced by [1, 7].\n",
            "\n",
            "\u001b[32m[I 2021-07-03 08:34:54,038]\u001b[0m Trial 7 finished with value: 0.9110557975523751 and parameters: {'learning_rate': 0.2, 'max_depth': 19, 'min_child_weight': 7, 'gamma': 0.30000000000000004, 'colsample_bytree': 0.8, 'n_estimators': 500}. Best is trial 6 with value: 0.9152872847956856.\u001b[0m\n",
            "/content/drive/MyDrive/Colab Notebooks/optuna/distributions.py:563: UserWarning:\n",
            "\n",
            "The distribution is specified by [1, 8] and step=2, but the range is not divisible by `step`. It will be replaced by [1, 7].\n",
            "\n",
            "\u001b[32m[I 2021-07-03 08:34:58,568]\u001b[0m Trial 8 finished with value: 0.8814768720182534 and parameters: {'learning_rate': 0.1, 'max_depth': 3, 'min_child_weight': 1, 'gamma': 0.1, 'colsample_bytree': 0.7, 'n_estimators': 200}. Best is trial 6 with value: 0.9152872847956856.\u001b[0m\n",
            "/content/drive/MyDrive/Colab Notebooks/optuna/distributions.py:563: UserWarning:\n",
            "\n",
            "The distribution is specified by [1, 8] and step=2, but the range is not divisible by `step`. It will be replaced by [1, 7].\n",
            "\n",
            "\u001b[32m[I 2021-07-03 08:36:55,252]\u001b[0m Trial 9 finished with value: 0.9079029247044182 and parameters: {'learning_rate': 0.15000000000000002, 'max_depth': 20, 'min_child_weight': 3, 'gamma': 0.4, 'colsample_bytree': 0.9, 'n_estimators': 850}. Best is trial 6 with value: 0.9152872847956856.\u001b[0m\n",
            "/content/drive/MyDrive/Colab Notebooks/optuna/distributions.py:563: UserWarning:\n",
            "\n",
            "The distribution is specified by [1, 8] and step=2, but the range is not divisible by `step`. It will be replaced by [1, 7].\n",
            "\n",
            "\u001b[32m[I 2021-07-03 08:37:09,583]\u001b[0m Trial 10 finished with value: 0.9194358017008919 and parameters: {'learning_rate': 0.25, 'max_depth': 3, 'min_child_weight': 1, 'gamma': 0.2, 'colsample_bytree': 0.6000000000000001, 'n_estimators': 750}. Best is trial 10 with value: 0.9194358017008919.\u001b[0m\n",
            "/content/drive/MyDrive/Colab Notebooks/optuna/distributions.py:563: UserWarning:\n",
            "\n",
            "The distribution is specified by [1, 8] and step=2, but the range is not divisible by `step`. It will be replaced by [1, 7].\n",
            "\n",
            "\u001b[32m[I 2021-07-03 08:37:22,978]\u001b[0m Trial 11 finished with value: 0.9191039203484754 and parameters: {'learning_rate': 0.3, 'max_depth': 3, 'min_child_weight': 1, 'gamma': 0.2, 'colsample_bytree': 0.6000000000000001, 'n_estimators': 700}. Best is trial 10 with value: 0.9194358017008919.\u001b[0m\n",
            "/content/drive/MyDrive/Colab Notebooks/optuna/distributions.py:563: UserWarning:\n",
            "\n",
            "The distribution is specified by [1, 8] and step=2, but the range is not divisible by `step`. It will be replaced by [1, 7].\n",
            "\n",
            "\u001b[32m[I 2021-07-03 08:37:35,864]\u001b[0m Trial 12 finished with value: 0.9187512964115329 and parameters: {'learning_rate': 0.3, 'max_depth': 3, 'min_child_weight': 1, 'gamma': 0.1, 'colsample_bytree': 0.6000000000000001, 'n_estimators': 650}. Best is trial 10 with value: 0.9194358017008919.\u001b[0m\n",
            "/content/drive/MyDrive/Colab Notebooks/optuna/distributions.py:563: UserWarning:\n",
            "\n",
            "The distribution is specified by [1, 8] and step=2, but the range is not divisible by `step`. It will be replaced by [1, 7].\n",
            "\n",
            "\u001b[32m[I 2021-07-03 08:37:56,541]\u001b[0m Trial 13 finished with value: 0.9161999585148309 and parameters: {'learning_rate': 0.25, 'max_depth': 5, 'min_child_weight': 5, 'gamma': 0.2, 'colsample_bytree': 0.5, 'n_estimators': 700}. Best is trial 10 with value: 0.9194358017008919.\u001b[0m\n",
            "/content/drive/MyDrive/Colab Notebooks/optuna/distributions.py:563: UserWarning:\n",
            "\n",
            "The distribution is specified by [1, 8] and step=2, but the range is not divisible by `step`. It will be replaced by [1, 7].\n",
            "\n",
            "\u001b[32m[I 2021-07-03 08:38:13,336]\u001b[0m Trial 14 finished with value: 0.9198091682223605 and parameters: {'learning_rate': 0.25, 'max_depth': 3, 'min_child_weight': 1, 'gamma': 0.1, 'colsample_bytree': 0.6000000000000001, 'n_estimators': 850}. Best is trial 14 with value: 0.9198091682223605.\u001b[0m\n",
            "/content/drive/MyDrive/Colab Notebooks/optuna/distributions.py:563: UserWarning:\n",
            "\n",
            "The distribution is specified by [1, 8] and step=2, but the range is not divisible by `step`. It will be replaced by [1, 7].\n",
            "\n",
            "\u001b[32m[I 2021-07-03 08:38:39,219]\u001b[0m Trial 15 finished with value: 0.9153909977183158 and parameters: {'learning_rate': 0.25, 'max_depth': 5, 'min_child_weight': 1, 'gamma': 0.0, 'colsample_bytree': 0.5, 'n_estimators': 850}. Best is trial 14 with value: 0.9198091682223605.\u001b[0m\n",
            "/content/drive/MyDrive/Colab Notebooks/optuna/distributions.py:563: UserWarning:\n",
            "\n",
            "The distribution is specified by [1, 8] and step=2, but the range is not divisible by `step`. It will be replaced by [1, 7].\n",
            "\n",
            "\u001b[32m[I 2021-07-03 08:39:13,150]\u001b[0m Trial 16 finished with value: 0.9099771831570213 and parameters: {'learning_rate': 0.25, 'max_depth': 10, 'min_child_weight': 3, 'gamma': 0.1, 'colsample_bytree': 0.7, 'n_estimators': 550}. Best is trial 14 with value: 0.9198091682223605.\u001b[0m\n",
            "/content/drive/MyDrive/Colab Notebooks/optuna/distributions.py:563: UserWarning:\n",
            "\n",
            "The distribution is specified by [1, 8] and step=2, but the range is not divisible by `step`. It will be replaced by [1, 7].\n",
            "\n",
            "\u001b[32m[I 2021-07-03 08:39:31,470]\u001b[0m Trial 17 finished with value: 0.9181290188757519 and parameters: {'learning_rate': 0.25, 'max_depth': 4, 'min_child_weight': 5, 'gamma': 0.1, 'colsample_bytree': 0.4, 'n_estimators': 850}. Best is trial 14 with value: 0.9198091682223605.\u001b[0m\n",
            "/content/drive/MyDrive/Colab Notebooks/optuna/distributions.py:563: UserWarning:\n",
            "\n",
            "The distribution is specified by [1, 8] and step=2, but the range is not divisible by `step`. It will be replaced by [1, 7].\n",
            "\n",
            "\u001b[32m[I 2021-07-03 08:40:04,470]\u001b[0m Trial 18 finished with value: 0.9158058494088364 and parameters: {'learning_rate': 0.2, 'max_depth': 6, 'min_child_weight': 1, 'gamma': 0.0, 'colsample_bytree': 0.6000000000000001, 'n_estimators': 950}. Best is trial 14 with value: 0.9198091682223605.\u001b[0m\n",
            "/content/drive/MyDrive/Colab Notebooks/optuna/distributions.py:563: UserWarning:\n",
            "\n",
            "The distribution is specified by [1, 8] and step=2, but the range is not divisible by `step`. It will be replaced by [1, 7].\n",
            "\n",
            "\u001b[32m[I 2021-07-03 08:40:50,515]\u001b[0m Trial 19 finished with value: 0.9133997096038167 and parameters: {'learning_rate': 0.15000000000000002, 'max_depth': 14, 'min_child_weight': 3, 'gamma': 0.2, 'colsample_bytree': 0.4, 'n_estimators': 800}. Best is trial 14 with value: 0.9198091682223605.\u001b[0m\n",
            "/content/drive/MyDrive/Colab Notebooks/optuna/distributions.py:563: UserWarning:\n",
            "\n",
            "The distribution is specified by [1, 8] and step=2, but the range is not divisible by `step`. It will be replaced by [1, 7].\n",
            "\n",
            "\u001b[32m[I 2021-07-03 08:41:24,506]\u001b[0m Trial 20 finished with value: 0.9104957477701722 and parameters: {'learning_rate': 0.25, 'max_depth': 9, 'min_child_weight': 1, 'gamma': 0.1, 'colsample_bytree': 0.7, 'n_estimators': 600}. Best is trial 14 with value: 0.9198091682223605.\u001b[0m\n",
            "/content/drive/MyDrive/Colab Notebooks/optuna/distributions.py:563: UserWarning:\n",
            "\n",
            "The distribution is specified by [1, 8] and step=2, but the range is not divisible by `step`. It will be replaced by [1, 7].\n",
            "\n",
            "\u001b[32m[I 2021-07-03 08:41:37,739]\u001b[0m Trial 21 finished with value: 0.9191039203484754 and parameters: {'learning_rate': 0.3, 'max_depth': 3, 'min_child_weight': 1, 'gamma': 0.2, 'colsample_bytree': 0.6000000000000001, 'n_estimators': 700}. Best is trial 14 with value: 0.9198091682223605.\u001b[0m\n",
            "/content/drive/MyDrive/Colab Notebooks/optuna/distributions.py:563: UserWarning:\n",
            "\n",
            "The distribution is specified by [1, 8] and step=2, but the range is not divisible by `step`. It will be replaced by [1, 7].\n",
            "\n",
            "\u001b[32m[I 2021-07-03 08:41:51,807]\u001b[0m Trial 22 finished with value: 0.9191039203484754 and parameters: {'learning_rate': 0.3, 'max_depth': 3, 'min_child_weight': 1, 'gamma': 0.2, 'colsample_bytree': 0.5, 'n_estimators': 750}. Best is trial 14 with value: 0.9198091682223605.\u001b[0m\n",
            "/content/drive/MyDrive/Colab Notebooks/optuna/distributions.py:563: UserWarning:\n",
            "\n",
            "The distribution is specified by [1, 8] and step=2, but the range is not divisible by `step`. It will be replaced by [1, 7].\n",
            "\n",
            "\u001b[32m[I 2021-07-03 08:42:17,000]\u001b[0m Trial 23 finished with value: 0.9178593652769135 and parameters: {'learning_rate': 0.3, 'max_depth': 5, 'min_child_weight': 1, 'gamma': 0.30000000000000004, 'colsample_bytree': 0.6000000000000001, 'n_estimators': 950}. Best is trial 14 with value: 0.9198091682223605.\u001b[0m\n",
            "/content/drive/MyDrive/Colab Notebooks/optuna/distributions.py:563: UserWarning:\n",
            "\n",
            "The distribution is specified by [1, 8] and step=2, but the range is not divisible by `step`. It will be replaced by [1, 7].\n",
            "\n",
            "\u001b[32m[I 2021-07-03 08:42:42,349]\u001b[0m Trial 24 finished with value: 0.9134411947728687 and parameters: {'learning_rate': 0.25, 'max_depth': 6, 'min_child_weight': 3, 'gamma': 0.1, 'colsample_bytree': 0.8, 'n_estimators': 600}. Best is trial 14 with value: 0.9198091682223605.\u001b[0m\n",
            "/content/drive/MyDrive/Colab Notebooks/optuna/distributions.py:563: UserWarning:\n",
            "\n",
            "The distribution is specified by [1, 8] and step=2, but the range is not divisible by `step`. It will be replaced by [1, 7].\n",
            "\n",
            "\u001b[32m[I 2021-07-03 08:43:01,160]\u001b[0m Trial 25 finished with value: 0.9192491184401576 and parameters: {'learning_rate': 0.2, 'max_depth': 4, 'min_child_weight': 1, 'gamma': 0.2, 'colsample_bytree': 0.5, 'n_estimators': 800}. Best is trial 14 with value: 0.9198091682223605.\u001b[0m\n",
            "/content/drive/MyDrive/Colab Notebooks/optuna/distributions.py:563: UserWarning:\n",
            "\n",
            "The distribution is specified by [1, 8] and step=2, but the range is not divisible by `step`. It will be replaced by [1, 7].\n",
            "\n",
            "\u001b[32m[I 2021-07-03 08:43:56,360]\u001b[0m Trial 26 finished with value: 0.9107861439535366 and parameters: {'learning_rate': 0.2, 'max_depth': 12, 'min_child_weight': 1, 'gamma': 0.4, 'colsample_bytree': 0.5, 'n_estimators': 900}. Best is trial 14 with value: 0.9198091682223605.\u001b[0m\n",
            "/content/drive/MyDrive/Colab Notebooks/optuna/distributions.py:563: UserWarning:\n",
            "\n",
            "The distribution is specified by [1, 8] and step=2, but the range is not divisible by `step`. It will be replaced by [1, 7].\n",
            "\n",
            "\u001b[32m[I 2021-07-03 08:44:11,524]\u001b[0m Trial 27 finished with value: 0.9174030284173408 and parameters: {'learning_rate': 0.15000000000000002, 'max_depth': 4, 'min_child_weight': 3, 'gamma': 0.0, 'colsample_bytree': 0.3, 'n_estimators': 800}. Best is trial 14 with value: 0.9198091682223605.\u001b[0m\n",
            "/content/drive/MyDrive/Colab Notebooks/optuna/distributions.py:563: UserWarning:\n",
            "\n",
            "The distribution is specified by [1, 8] and step=2, but the range is not divisible by `step`. It will be replaced by [1, 7].\n",
            "\n",
            "\u001b[32m[I 2021-07-03 08:44:44,418]\u001b[0m Trial 28 finished with value: 0.9168429786351379 and parameters: {'learning_rate': 0.2, 'max_depth': 7, 'min_child_weight': 1, 'gamma': 0.1, 'colsample_bytree': 0.4, 'n_estimators': 1000}. Best is trial 14 with value: 0.9198091682223605.\u001b[0m\n",
            "/content/drive/MyDrive/Colab Notebooks/optuna/distributions.py:563: UserWarning:\n",
            "\n",
            "The distribution is specified by [1, 8] and step=2, but the range is not divisible by `step`. It will be replaced by [1, 7].\n",
            "\n",
            "\u001b[32m[I 2021-07-03 08:45:18,310]\u001b[0m Trial 29 finished with value: 0.9137730761252851 and parameters: {'learning_rate': 0.25, 'max_depth': 8, 'min_child_weight': 7, 'gamma': 0.30000000000000004, 'colsample_bytree': 0.5, 'n_estimators': 800}. Best is trial 14 with value: 0.9198091682223605.\u001b[0m\n",
            "/content/drive/MyDrive/Colab Notebooks/optuna/distributions.py:563: UserWarning:\n",
            "\n",
            "The distribution is specified by [1, 8] and step=2, but the range is not divisible by `step`. It will be replaced by [1, 7].\n",
            "\n",
            "\u001b[32m[I 2021-07-03 08:45:42,136]\u001b[0m Trial 30 finished with value: 0.9165110972827214 and parameters: {'learning_rate': 0.2, 'max_depth': 4, 'min_child_weight': 5, 'gamma': 0.2, 'colsample_bytree': 0.7, 'n_estimators': 900}. Best is trial 14 with value: 0.9198091682223605.\u001b[0m\n",
            "/content/drive/MyDrive/Colab Notebooks/optuna/distributions.py:563: UserWarning:\n",
            "\n",
            "The distribution is specified by [1, 8] and step=2, but the range is not divisible by `step`. It will be replaced by [1, 7].\n",
            "\n",
            "\u001b[32m[I 2021-07-03 08:45:56,406]\u001b[0m Trial 31 finished with value: 0.9194358017008919 and parameters: {'learning_rate': 0.25, 'max_depth': 3, 'min_child_weight': 1, 'gamma': 0.2, 'colsample_bytree': 0.5, 'n_estimators': 750}. Best is trial 14 with value: 0.9198091682223605.\u001b[0m\n",
            "/content/drive/MyDrive/Colab Notebooks/optuna/distributions.py:563: UserWarning:\n",
            "\n",
            "The distribution is specified by [1, 8] and step=2, but the range is not divisible by `step`. It will be replaced by [1, 7].\n",
            "\n",
            "\u001b[32m[I 2021-07-03 08:46:20,724]\u001b[0m Trial 32 finished with value: 0.9172163451566065 and parameters: {'learning_rate': 0.25, 'max_depth': 6, 'min_child_weight': 1, 'gamma': 0.2, 'colsample_bytree': 0.5, 'n_estimators': 750}. Best is trial 14 with value: 0.9198091682223605.\u001b[0m\n",
            "/content/drive/MyDrive/Colab Notebooks/optuna/distributions.py:563: UserWarning:\n",
            "\n",
            "The distribution is specified by [1, 8] and step=2, but the range is not divisible by `step`. It will be replaced by [1, 7].\n",
            "\n",
            "\u001b[32m[I 2021-07-03 08:46:36,409]\u001b[0m Trial 33 finished with value: 0.9186268409043766 and parameters: {'learning_rate': 0.2, 'max_depth': 4, 'min_child_weight': 1, 'gamma': 0.2, 'colsample_bytree': 0.6000000000000001, 'n_estimators': 650}. Best is trial 14 with value: 0.9198091682223605.\u001b[0m\n",
            "/content/drive/MyDrive/Colab Notebooks/optuna/distributions.py:563: UserWarning:\n",
            "\n",
            "The distribution is specified by [1, 8] and step=2, but the range is not divisible by `step`. It will be replaced by [1, 7].\n",
            "\n",
            "\u001b[32m[I 2021-07-03 08:46:58,343]\u001b[0m Trial 34 finished with value: 0.9172578303256586 and parameters: {'learning_rate': 0.25, 'max_depth': 5, 'min_child_weight': 3, 'gamma': 0.30000000000000004, 'colsample_bytree': 0.4, 'n_estimators': 900}. Best is trial 14 with value: 0.9198091682223605.\u001b[0m\n",
            "/content/drive/MyDrive/Colab Notebooks/optuna/distributions.py:563: UserWarning:\n",
            "\n",
            "The distribution is specified by [1, 8] and step=2, but the range is not divisible by `step`. It will be replaced by [1, 7].\n",
            "\n",
            "\u001b[32m[I 2021-07-03 08:47:29,280]\u001b[0m Trial 35 finished with value: 0.9145405517527484 and parameters: {'learning_rate': 0.2, 'max_depth': 7, 'min_child_weight': 1, 'gamma': 0.1, 'colsample_bytree': 0.5, 'n_estimators': 800}. Best is trial 14 with value: 0.9198091682223605.\u001b[0m\n",
            "/content/drive/MyDrive/Colab Notebooks/optuna/distributions.py:563: UserWarning:\n",
            "\n",
            "The distribution is specified by [1, 8] and step=2, but the range is not divisible by `step`. It will be replaced by [1, 7].\n",
            "\n",
            "\u001b[32m[I 2021-07-03 08:48:00,829]\u001b[0m Trial 36 finished with value: 0.9113876789047914 and parameters: {'learning_rate': 0.25, 'max_depth': 12, 'min_child_weight': 3, 'gamma': 0.2, 'colsample_bytree': 0.6000000000000001, 'n_estimators': 500}. Best is trial 14 with value: 0.9198091682223605.\u001b[0m\n",
            "/content/drive/MyDrive/Colab Notebooks/optuna/distributions.py:563: UserWarning:\n",
            "\n",
            "The distribution is specified by [1, 8] and step=2, but the range is not divisible by `step`. It will be replaced by [1, 7].\n",
            "\n",
            "\u001b[32m[I 2021-07-03 08:48:14,520]\u001b[0m Trial 37 finished with value: 0.9178593652769135 and parameters: {'learning_rate': 0.2, 'max_depth': 3, 'min_child_weight': 1, 'gamma': 0.30000000000000004, 'colsample_bytree': 0.7, 'n_estimators': 650}. Best is trial 14 with value: 0.9198091682223605.\u001b[0m\n",
            "/content/drive/MyDrive/Colab Notebooks/optuna/distributions.py:563: UserWarning:\n",
            "\n",
            "The distribution is specified by [1, 8] and step=2, but the range is not divisible by `step`. It will be replaced by [1, 7].\n",
            "\n",
            "\u001b[32m[I 2021-07-03 08:48:30,731]\u001b[0m Trial 38 finished with value: 0.9184194150591164 and parameters: {'learning_rate': 0.15000000000000002, 'max_depth': 4, 'min_child_weight': 3, 'gamma': 0.1, 'colsample_bytree': 0.4, 'n_estimators': 750}. Best is trial 14 with value: 0.9198091682223605.\u001b[0m\n",
            "/content/drive/MyDrive/Colab Notebooks/optuna/distributions.py:563: UserWarning:\n",
            "\n",
            "The distribution is specified by [1, 8] and step=2, but the range is not divisible by `step`. It will be replaced by [1, 7].\n",
            "\n",
            "\u001b[32m[I 2021-07-03 08:49:05,860]\u001b[0m Trial 39 finished with value: 0.9158888197469405 and parameters: {'learning_rate': 0.25, 'max_depth': 7, 'min_child_weight': 1, 'gamma': 0.30000000000000004, 'colsample_bytree': 0.5, 'n_estimators': 1000}. Best is trial 14 with value: 0.9198091682223605.\u001b[0m\n",
            "/content/drive/MyDrive/Colab Notebooks/optuna/distributions.py:563: UserWarning:\n",
            "\n",
            "The distribution is specified by [1, 8] and step=2, but the range is not divisible by `step`. It will be replaced by [1, 7].\n",
            "\n",
            "\u001b[32m[I 2021-07-03 08:49:38,861]\u001b[0m Trial 40 finished with value: 0.9148309479361129 and parameters: {'learning_rate': 0.3, 'max_depth': 6, 'min_child_weight': 1, 'gamma': 0.2, 'colsample_bytree': 0.8, 'n_estimators': 850}. Best is trial 14 with value: 0.9198091682223605.\u001b[0m\n",
            "/content/drive/MyDrive/Colab Notebooks/optuna/distributions.py:563: UserWarning:\n",
            "\n",
            "The distribution is specified by [1, 8] and step=2, but the range is not divisible by `step`. It will be replaced by [1, 7].\n",
            "\n",
            "\u001b[32m[I 2021-07-03 08:49:52,086]\u001b[0m Trial 41 finished with value: 0.9191039203484754 and parameters: {'learning_rate': 0.3, 'max_depth': 3, 'min_child_weight': 1, 'gamma': 0.2, 'colsample_bytree': 0.6000000000000001, 'n_estimators': 700}. Best is trial 14 with value: 0.9198091682223605.\u001b[0m\n",
            "/content/drive/MyDrive/Colab Notebooks/optuna/distributions.py:563: UserWarning:\n",
            "\n",
            "The distribution is specified by [1, 8] and step=2, but the range is not divisible by `step`. It will be replaced by [1, 7].\n",
            "\n",
            "\u001b[32m[I 2021-07-03 08:50:05,342]\u001b[0m Trial 42 finished with value: 0.9191039203484754 and parameters: {'learning_rate': 0.3, 'max_depth': 3, 'min_child_weight': 1, 'gamma': 0.2, 'colsample_bytree': 0.6000000000000001, 'n_estimators': 700}. Best is trial 14 with value: 0.9198091682223605.\u001b[0m\n",
            "/content/drive/MyDrive/Colab Notebooks/optuna/distributions.py:563: UserWarning:\n",
            "\n",
            "The distribution is specified by [1, 8] and step=2, but the range is not divisible by `step`. It will be replaced by [1, 7].\n",
            "\n",
            "\u001b[32m[I 2021-07-03 08:50:22,925]\u001b[0m Trial 43 finished with value: 0.918834266749637 and parameters: {'learning_rate': 0.3, 'max_depth': 4, 'min_child_weight': 1, 'gamma': 0.2, 'colsample_bytree': 0.6000000000000001, 'n_estimators': 750}. Best is trial 14 with value: 0.9198091682223605.\u001b[0m\n",
            "/content/drive/MyDrive/Colab Notebooks/optuna/distributions.py:563: UserWarning:\n",
            "\n",
            "The distribution is specified by [1, 8] and step=2, but the range is not divisible by `step`. It will be replaced by [1, 7].\n",
            "\n",
            "\u001b[32m[I 2021-07-03 08:50:44,055]\u001b[0m Trial 44 finished with value: 0.9167392657125077 and parameters: {'learning_rate': 0.25, 'max_depth': 5, 'min_child_weight': 1, 'gamma': 0.1, 'colsample_bytree': 0.7, 'n_estimators': 650}. Best is trial 14 with value: 0.9198091682223605.\u001b[0m\n",
            "/content/drive/MyDrive/Colab Notebooks/optuna/distributions.py:563: UserWarning:\n",
            "\n",
            "The distribution is specified by [1, 8] and step=2, but the range is not divisible by `step`. It will be replaced by [1, 7].\n",
            "\n",
            "\u001b[32m[I 2021-07-03 08:50:58,259]\u001b[0m Trial 45 finished with value: 0.9179215930304916 and parameters: {'learning_rate': 0.2, 'max_depth': 3, 'min_child_weight': 1, 'gamma': 0.30000000000000004, 'colsample_bytree': 0.5, 'n_estimators': 750}. Best is trial 14 with value: 0.9198091682223605.\u001b[0m\n",
            "/content/drive/MyDrive/Colab Notebooks/optuna/distributions.py:563: UserWarning:\n",
            "\n",
            "The distribution is specified by [1, 8] and step=2, but the range is not divisible by `step`. It will be replaced by [1, 7].\n",
            "\n",
            "\u001b[32m[I 2021-07-03 08:52:11,912]\u001b[0m Trial 46 finished with value: 0.9056627255756067 and parameters: {'learning_rate': 0.25, 'max_depth': 18, 'min_child_weight': 1, 'gamma': 0.2, 'colsample_bytree': 0.5, 'n_estimators': 800}. Best is trial 14 with value: 0.9198091682223605.\u001b[0m\n",
            "/content/drive/MyDrive/Colab Notebooks/optuna/distributions.py:563: UserWarning:\n",
            "\n",
            "The distribution is specified by [1, 8] and step=2, but the range is not divisible by `step`. It will be replaced by [1, 7].\n",
            "\n",
            "\u001b[32m[I 2021-07-03 08:52:26,833]\u001b[0m Trial 47 finished with value: 0.9144368388301182 and parameters: {'learning_rate': 0.1, 'max_depth': 3, 'min_child_weight': 3, 'gamma': 0.1, 'colsample_bytree': 0.4, 'n_estimators': 850}. Best is trial 14 with value: 0.9198091682223605.\u001b[0m\n",
            "/content/drive/MyDrive/Colab Notebooks/optuna/distributions.py:563: UserWarning:\n",
            "\n",
            "The distribution is specified by [1, 8] and step=2, but the range is not divisible by `step`. It will be replaced by [1, 7].\n",
            "\n",
            "\u001b[32m[I 2021-07-03 08:52:54,945]\u001b[0m Trial 48 finished with value: 0.914333125907488 and parameters: {'learning_rate': 0.3, 'max_depth': 5, 'min_child_weight': 1, 'gamma': 0.0, 'colsample_bytree': 0.5, 'n_estimators': 950}. Best is trial 14 with value: 0.9198091682223605.\u001b[0m\n",
            "/content/drive/MyDrive/Colab Notebooks/optuna/distributions.py:563: UserWarning:\n",
            "\n",
            "The distribution is specified by [1, 8] and step=2, but the range is not divisible by `step`. It will be replaced by [1, 7].\n",
            "\n",
            "\u001b[32m[I 2021-07-03 08:53:11,032]\u001b[0m Trial 49 finished with value: 0.9189172370877411 and parameters: {'learning_rate': 0.25, 'max_depth': 4, 'min_child_weight': 1, 'gamma': 0.4, 'colsample_bytree': 0.6000000000000001, 'n_estimators': 700}. Best is trial 14 with value: 0.9198091682223605.\u001b[0m\n",
            "/content/drive/MyDrive/Colab Notebooks/optuna/distributions.py:563: UserWarning:\n",
            "\n",
            "The distribution is specified by [1, 8] and step=2, but the range is not divisible by `step`. It will be replaced by [1, 7].\n",
            "\n",
            "\u001b[32m[I 2021-07-03 08:53:23,026]\u001b[0m Trial 50 finished with value: 0.9168014934660859 and parameters: {'learning_rate': 0.15000000000000002, 'max_depth': 5, 'min_child_weight': 3, 'gamma': 0.30000000000000004, 'colsample_bytree': 0.5, 'n_estimators': 400}. Best is trial 14 with value: 0.9198091682223605.\u001b[0m\n",
            "/content/drive/MyDrive/Colab Notebooks/optuna/distributions.py:563: UserWarning:\n",
            "\n",
            "The distribution is specified by [1, 8] and step=2, but the range is not divisible by `step`. It will be replaced by [1, 7].\n",
            "\n",
            "\u001b[32m[I 2021-07-03 08:53:36,220]\u001b[0m Trial 51 finished with value: 0.9191039203484754 and parameters: {'learning_rate': 0.3, 'max_depth': 3, 'min_child_weight': 1, 'gamma': 0.2, 'colsample_bytree': 0.6000000000000001, 'n_estimators': 700}. Best is trial 14 with value: 0.9198091682223605.\u001b[0m\n",
            "/content/drive/MyDrive/Colab Notebooks/optuna/distributions.py:563: UserWarning:\n",
            "\n",
            "The distribution is specified by [1, 8] and step=2, but the range is not divisible by `step`. It will be replaced by [1, 7].\n",
            "\n",
            "\u001b[32m[I 2021-07-03 08:53:49,454]\u001b[0m Trial 52 finished with value: 0.9191039203484754 and parameters: {'learning_rate': 0.3, 'max_depth': 3, 'min_child_weight': 1, 'gamma': 0.2, 'colsample_bytree': 0.6000000000000001, 'n_estimators': 700}. Best is trial 14 with value: 0.9198091682223605.\u001b[0m\n",
            "/content/drive/MyDrive/Colab Notebooks/optuna/distributions.py:563: UserWarning:\n",
            "\n",
            "The distribution is specified by [1, 8] and step=2, but the range is not divisible by `step`. It will be replaced by [1, 7].\n",
            "\n",
            "\u001b[32m[I 2021-07-03 08:54:02,606]\u001b[0m Trial 53 finished with value: 0.918813524165111 and parameters: {'learning_rate': 0.3, 'max_depth': 4, 'min_child_weight': 1, 'gamma': 0.2, 'colsample_bytree': 0.6000000000000001, 'n_estimators': 550}. Best is trial 14 with value: 0.9198091682223605.\u001b[0m\n",
            "/content/drive/MyDrive/Colab Notebooks/optuna/distributions.py:563: UserWarning:\n",
            "\n",
            "The distribution is specified by [1, 8] and step=2, but the range is not divisible by `step`. It will be replaced by [1, 7].\n",
            "\n",
            "\u001b[32m[I 2021-07-03 08:54:16,166]\u001b[0m Trial 54 finished with value: 0.918834266749637 and parameters: {'learning_rate': 0.25, 'max_depth': 3, 'min_child_weight': 1, 'gamma': 0.2, 'colsample_bytree': 0.7, 'n_estimators': 650}. Best is trial 14 with value: 0.9198091682223605.\u001b[0m\n",
            "/content/drive/MyDrive/Colab Notebooks/optuna/distributions.py:563: UserWarning:\n",
            "\n",
            "The distribution is specified by [1, 8] and step=2, but the range is not divisible by `step`. It will be replaced by [1, 7].\n",
            "\n",
            "\u001b[32m[I 2021-07-03 08:54:42,950]\u001b[0m Trial 55 finished with value: 0.9146027795063265 and parameters: {'learning_rate': 0.3, 'max_depth': 6, 'min_child_weight': 1, 'gamma': 0.1, 'colsample_bytree': 0.5, 'n_estimators': 800}. Best is trial 14 with value: 0.9198091682223605.\u001b[0m\n",
            "/content/drive/MyDrive/Colab Notebooks/optuna/distributions.py:563: UserWarning:\n",
            "\n",
            "The distribution is specified by [1, 8] and step=2, but the range is not divisible by `step`. It will be replaced by [1, 7].\n",
            "\n",
            "\u001b[32m[I 2021-07-03 08:54:58,776]\u001b[0m Trial 56 finished with value: 0.9193943165318399 and parameters: {'learning_rate': 0.25, 'max_depth': 4, 'min_child_weight': 1, 'gamma': 0.2, 'colsample_bytree': 0.4, 'n_estimators': 750}. Best is trial 14 with value: 0.9198091682223605.\u001b[0m\n",
            "/content/drive/MyDrive/Colab Notebooks/optuna/distributions.py:563: UserWarning:\n",
            "\n",
            "The distribution is specified by [1, 8] and step=2, but the range is not divisible by `step`. It will be replaced by [1, 7].\n",
            "\n",
            "\u001b[32m[I 2021-07-03 08:55:14,535]\u001b[0m Trial 57 finished with value: 0.9206803567724539 and parameters: {'learning_rate': 0.25, 'max_depth': 4, 'min_child_weight': 1, 'gamma': 0.30000000000000004, 'colsample_bytree': 0.3, 'n_estimators': 900}. Best is trial 57 with value: 0.9206803567724539.\u001b[0m\n",
            "/content/drive/MyDrive/Colab Notebooks/optuna/distributions.py:563: UserWarning:\n",
            "\n",
            "The distribution is specified by [1, 8] and step=2, but the range is not divisible by `step`. It will be replaced by [1, 7].\n",
            "\n",
            "\u001b[32m[I 2021-07-03 08:55:38,194]\u001b[0m Trial 58 finished with value: 0.9186890686579549 and parameters: {'learning_rate': 0.25, 'max_depth': 8, 'min_child_weight': 1, 'gamma': 0.30000000000000004, 'colsample_bytree': 0.3, 'n_estimators': 900}. Best is trial 57 with value: 0.9206803567724539.\u001b[0m\n",
            "/content/drive/MyDrive/Colab Notebooks/optuna/distributions.py:563: UserWarning:\n",
            "\n",
            "The distribution is specified by [1, 8] and step=2, but the range is not divisible by `step`. It will be replaced by [1, 7].\n",
            "\n",
            "\u001b[32m[I 2021-07-03 08:55:55,464]\u001b[0m Trial 59 finished with value: 0.9197054552997304 and parameters: {'learning_rate': 0.2, 'max_depth': 5, 'min_child_weight': 1, 'gamma': 0.30000000000000004, 'colsample_bytree': 0.3, 'n_estimators': 850}. Best is trial 57 with value: 0.9206803567724539.\u001b[0m\n",
            "/content/drive/MyDrive/Colab Notebooks/optuna/distributions.py:563: UserWarning:\n",
            "\n",
            "The distribution is specified by [1, 8] and step=2, but the range is not divisible by `step`. It will be replaced by [1, 7].\n",
            "\n",
            "\u001b[32m[I 2021-07-03 08:56:19,629]\u001b[0m Trial 60 finished with value: 0.9167185231279817 and parameters: {'learning_rate': 0.25, 'max_depth': 9, 'min_child_weight': 3, 'gamma': 0.4, 'colsample_bytree': 0.3, 'n_estimators': 850}. Best is trial 57 with value: 0.9206803567724539.\u001b[0m\n",
            "/content/drive/MyDrive/Colab Notebooks/optuna/distributions.py:563: UserWarning:\n",
            "\n",
            "The distribution is specified by [1, 8] and step=2, but the range is not divisible by `step`. It will be replaced by [1, 7].\n",
            "\n",
            "\u001b[32m[I 2021-07-03 08:56:37,008]\u001b[0m Trial 61 finished with value: 0.9197054552997304 and parameters: {'learning_rate': 0.2, 'max_depth': 5, 'min_child_weight': 1, 'gamma': 0.30000000000000004, 'colsample_bytree': 0.3, 'n_estimators': 850}. Best is trial 57 with value: 0.9206803567724539.\u001b[0m\n",
            "/content/drive/MyDrive/Colab Notebooks/optuna/distributions.py:563: UserWarning:\n",
            "\n",
            "The distribution is specified by [1, 8] and step=2, but the range is not divisible by `step`. It will be replaced by [1, 7].\n",
            "\n",
            "\u001b[32m[I 2021-07-03 08:56:56,991]\u001b[0m Trial 62 finished with value: 0.9201410495747769 and parameters: {'learning_rate': 0.2, 'max_depth': 6, 'min_child_weight': 1, 'gamma': 0.30000000000000004, 'colsample_bytree': 0.3, 'n_estimators': 900}. Best is trial 57 with value: 0.9206803567724539.\u001b[0m\n",
            "/content/drive/MyDrive/Colab Notebooks/optuna/distributions.py:563: UserWarning:\n",
            "\n",
            "The distribution is specified by [1, 8] and step=2, but the range is not divisible by `step`. It will be replaced by [1, 7].\n",
            "\n",
            "\u001b[32m[I 2021-07-03 08:57:18,698]\u001b[0m Trial 63 finished with value: 0.91949802945447 and parameters: {'learning_rate': 0.2, 'max_depth': 7, 'min_child_weight': 1, 'gamma': 0.4, 'colsample_bytree': 0.3, 'n_estimators': 900}. Best is trial 57 with value: 0.9206803567724539.\u001b[0m\n",
            "/content/drive/MyDrive/Colab Notebooks/optuna/distributions.py:563: UserWarning:\n",
            "\n",
            "The distribution is specified by [1, 8] and step=2, but the range is not divisible by `step`. It will be replaced by [1, 7].\n",
            "\n",
            "\u001b[32m[I 2021-07-03 08:57:41,565]\u001b[0m Trial 64 finished with value: 0.91949802945447 and parameters: {'learning_rate': 0.2, 'max_depth': 7, 'min_child_weight': 1, 'gamma': 0.4, 'colsample_bytree': 0.3, 'n_estimators': 950}. Best is trial 57 with value: 0.9206803567724539.\u001b[0m\n",
            "/content/drive/MyDrive/Colab Notebooks/optuna/distributions.py:563: UserWarning:\n",
            "\n",
            "The distribution is specified by [1, 8] and step=2, but the range is not divisible by `step`. It will be replaced by [1, 7].\n",
            "\n",
            "\u001b[32m[I 2021-07-03 08:58:08,227]\u001b[0m Trial 65 finished with value: 0.9186683260734286 and parameters: {'learning_rate': 0.2, 'max_depth': 9, 'min_child_weight': 1, 'gamma': 0.5, 'colsample_bytree': 0.3, 'n_estimators': 950}. Best is trial 57 with value: 0.9206803567724539.\u001b[0m\n",
            "/content/drive/MyDrive/Colab Notebooks/optuna/distributions.py:563: UserWarning:\n",
            "\n",
            "The distribution is specified by [1, 8] and step=2, but the range is not divisible by `step`. It will be replaced by [1, 7].\n",
            "\n",
            "\u001b[32m[I 2021-07-03 08:58:32,711]\u001b[0m Trial 66 finished with value: 0.9193943165318399 and parameters: {'learning_rate': 0.15000000000000002, 'max_depth': 7, 'min_child_weight': 1, 'gamma': 0.4, 'colsample_bytree': 0.3, 'n_estimators': 1000}. Best is trial 57 with value: 0.9206803567724539.\u001b[0m\n",
            "/content/drive/MyDrive/Colab Notebooks/optuna/distributions.py:563: UserWarning:\n",
            "\n",
            "The distribution is specified by [1, 8] and step=2, but the range is not divisible by `step`. It will be replaced by [1, 7].\n",
            "\n",
            "\u001b[32m[I 2021-07-03 08:58:57,471]\u001b[0m Trial 67 finished with value: 0.9197884256378345 and parameters: {'learning_rate': 0.2, 'max_depth': 8, 'min_child_weight': 1, 'gamma': 0.4, 'colsample_bytree': 0.3, 'n_estimators': 950}. Best is trial 57 with value: 0.9206803567724539.\u001b[0m\n",
            "/content/drive/MyDrive/Colab Notebooks/optuna/distributions.py:563: UserWarning:\n",
            "\n",
            "The distribution is specified by [1, 8] and step=2, but the range is not divisible by `step`. It will be replaced by [1, 7].\n",
            "\n",
            "\u001b[32m[I 2021-07-03 08:59:26,335]\u001b[0m Trial 68 finished with value: 0.9179008504459656 and parameters: {'learning_rate': 0.2, 'max_depth': 10, 'min_child_weight': 1, 'gamma': 0.4, 'colsample_bytree': 0.3, 'n_estimators': 950}. Best is trial 57 with value: 0.9206803567724539.\u001b[0m\n",
            "/content/drive/MyDrive/Colab Notebooks/optuna/distributions.py:563: UserWarning:\n",
            "\n",
            "The distribution is specified by [1, 8] and step=2, but the range is not divisible by `step`. It will be replaced by [1, 7].\n",
            "\n",
            "\u001b[32m[I 2021-07-03 08:59:46,887]\u001b[0m Trial 69 finished with value: 0.9198713959759387 and parameters: {'learning_rate': 0.15000000000000002, 'max_depth': 6, 'min_child_weight': 1, 'gamma': 0.4, 'colsample_bytree': 0.3, 'n_estimators': 900}. Best is trial 57 with value: 0.9206803567724539.\u001b[0m\n",
            "/content/drive/MyDrive/Colab Notebooks/optuna/distributions.py:563: UserWarning:\n",
            "\n",
            "The distribution is specified by [1, 8] and step=2, but the range is not divisible by `step`. It will be replaced by [1, 7].\n",
            "\n",
            "\u001b[32m[I 2021-07-03 09:00:06,118]\u001b[0m Trial 70 finished with value: 0.9199128811449907 and parameters: {'learning_rate': 0.15000000000000002, 'max_depth': 6, 'min_child_weight': 1, 'gamma': 0.5, 'colsample_bytree': 0.3, 'n_estimators': 850}. Best is trial 57 with value: 0.9206803567724539.\u001b[0m\n",
            "/content/drive/MyDrive/Colab Notebooks/optuna/distributions.py:563: UserWarning:\n",
            "\n",
            "The distribution is specified by [1, 8] and step=2, but the range is not divisible by `step`. It will be replaced by [1, 7].\n",
            "\n",
            "\u001b[32m[I 2021-07-03 09:00:25,568]\u001b[0m Trial 71 finished with value: 0.9199128811449907 and parameters: {'learning_rate': 0.15000000000000002, 'max_depth': 6, 'min_child_weight': 1, 'gamma': 0.5, 'colsample_bytree': 0.3, 'n_estimators': 850}. Best is trial 57 with value: 0.9206803567724539.\u001b[0m\n",
            "/content/drive/MyDrive/Colab Notebooks/optuna/distributions.py:563: UserWarning:\n",
            "\n",
            "The distribution is specified by [1, 8] and step=2, but the range is not divisible by `step`. It will be replaced by [1, 7].\n",
            "\n",
            "\u001b[32m[I 2021-07-03 09:00:46,858]\u001b[0m Trial 72 finished with value: 0.9202655050819333 and parameters: {'learning_rate': 0.1, 'max_depth': 6, 'min_child_weight': 1, 'gamma': 0.5, 'colsample_bytree': 0.3, 'n_estimators': 900}. Best is trial 57 with value: 0.9206803567724539.\u001b[0m\n",
            "/content/drive/MyDrive/Colab Notebooks/optuna/distributions.py:563: UserWarning:\n",
            "\n",
            "The distribution is specified by [1, 8] and step=2, but the range is not divisible by `step`. It will be replaced by [1, 7].\n",
            "\n",
            "\u001b[32m[I 2021-07-03 09:01:12,170]\u001b[0m Trial 73 finished with value: 0.9201203069902509 and parameters: {'learning_rate': 0.1, 'max_depth': 8, 'min_child_weight': 1, 'gamma': 0.5, 'colsample_bytree': 0.3, 'n_estimators': 900}. Best is trial 57 with value: 0.9206803567724539.\u001b[0m\n",
            "/content/drive/MyDrive/Colab Notebooks/optuna/distributions.py:563: UserWarning:\n",
            "\n",
            "The distribution is specified by [1, 8] and step=2, but the range is not divisible by `step`. It will be replaced by [1, 7].\n",
            "\n",
            "\u001b[32m[I 2021-07-03 09:01:33,505]\u001b[0m Trial 74 finished with value: 0.9202655050819333 and parameters: {'learning_rate': 0.1, 'max_depth': 6, 'min_child_weight': 1, 'gamma': 0.5, 'colsample_bytree': 0.3, 'n_estimators': 900}. Best is trial 57 with value: 0.9206803567724539.\u001b[0m\n",
            "/content/drive/MyDrive/Colab Notebooks/optuna/distributions.py:563: UserWarning:\n",
            "\n",
            "The distribution is specified by [1, 8] and step=2, but the range is not divisible by `step`. It will be replaced by [1, 7].\n",
            "\n",
            "\u001b[32m[I 2021-07-03 09:01:54,468]\u001b[0m Trial 75 finished with value: 0.9202655050819333 and parameters: {'learning_rate': 0.1, 'max_depth': 6, 'min_child_weight': 1, 'gamma': 0.5, 'colsample_bytree': 0.3, 'n_estimators': 900}. Best is trial 57 with value: 0.9206803567724539.\u001b[0m\n",
            "/content/drive/MyDrive/Colab Notebooks/optuna/distributions.py:563: UserWarning:\n",
            "\n",
            "The distribution is specified by [1, 8] and step=2, but the range is not divisible by `step`. It will be replaced by [1, 7].\n",
            "\n",
            "\u001b[32m[I 2021-07-03 09:02:21,136]\u001b[0m Trial 76 finished with value: 0.9187098112424809 and parameters: {'learning_rate': 0.05, 'max_depth': 8, 'min_child_weight': 1, 'gamma': 0.5, 'colsample_bytree': 0.3, 'n_estimators': 900}. Best is trial 57 with value: 0.9206803567724539.\u001b[0m\n",
            "/content/drive/MyDrive/Colab Notebooks/optuna/distributions.py:563: UserWarning:\n",
            "\n",
            "The distribution is specified by [1, 8] and step=2, but the range is not divisible by `step`. It will be replaced by [1, 7].\n",
            "\n",
            "\u001b[32m[I 2021-07-03 09:02:49,760]\u001b[0m Trial 77 finished with value: 0.919539514623522 and parameters: {'learning_rate': 0.1, 'max_depth': 6, 'min_child_weight': 1, 'gamma': 0.5, 'colsample_bytree': 0.4, 'n_estimators': 1000}. Best is trial 57 with value: 0.9206803567724539.\u001b[0m\n",
            "/content/drive/MyDrive/Colab Notebooks/optuna/distributions.py:563: UserWarning:\n",
            "\n",
            "The distribution is specified by [1, 8] and step=2, but the range is not divisible by `step`. It will be replaced by [1, 7].\n",
            "\n",
            "\u001b[32m[I 2021-07-03 09:03:10,045]\u001b[0m Trial 78 finished with value: 0.9163244140219872 and parameters: {'learning_rate': 0.1, 'max_depth': 6, 'min_child_weight': 7, 'gamma': 0.5, 'colsample_bytree': 0.3, 'n_estimators': 900}. Best is trial 57 with value: 0.9206803567724539.\u001b[0m\n",
            "/content/drive/MyDrive/Colab Notebooks/optuna/distributions.py:563: UserWarning:\n",
            "\n",
            "The distribution is specified by [1, 8] and step=2, but the range is not divisible by `step`. It will be replaced by [1, 7].\n",
            "\n",
            "\u001b[32m[I 2021-07-03 09:03:41,785]\u001b[0m Trial 79 finished with value: 0.9169466915577681 and parameters: {'learning_rate': 0.1, 'max_depth': 8, 'min_child_weight': 5, 'gamma': 0.5, 'colsample_bytree': 0.4, 'n_estimators': 900}. Best is trial 57 with value: 0.9206803567724539.\u001b[0m\n",
            "/content/drive/MyDrive/Colab Notebooks/optuna/distributions.py:563: UserWarning:\n",
            "\n",
            "The distribution is specified by [1, 8] and step=2, but the range is not divisible by `step`. It will be replaced by [1, 7].\n",
            "\n",
            "\u001b[32m[I 2021-07-03 09:04:11,734]\u001b[0m Trial 80 finished with value: 0.9192698610246838 and parameters: {'learning_rate': 0.1, 'max_depth': 10, 'min_child_weight': 1, 'gamma': 0.5, 'colsample_bytree': 0.3, 'n_estimators': 950}. Best is trial 57 with value: 0.9206803567724539.\u001b[0m\n",
            "/content/drive/MyDrive/Colab Notebooks/optuna/distributions.py:563: UserWarning:\n",
            "\n",
            "The distribution is specified by [1, 8] and step=2, but the range is not divisible by `step`. It will be replaced by [1, 7].\n",
            "\n",
            "\u001b[32m[I 2021-07-03 09:04:32,855]\u001b[0m Trial 81 finished with value: 0.9202655050819333 and parameters: {'learning_rate': 0.1, 'max_depth': 6, 'min_child_weight': 1, 'gamma': 0.5, 'colsample_bytree': 0.3, 'n_estimators': 900}. Best is trial 57 with value: 0.9206803567724539.\u001b[0m\n",
            "/content/drive/MyDrive/Colab Notebooks/optuna/distributions.py:563: UserWarning:\n",
            "\n",
            "The distribution is specified by [1, 8] and step=2, but the range is not divisible by `step`. It will be replaced by [1, 7].\n",
            "\n",
            "\u001b[32m[I 2021-07-03 09:04:52,829]\u001b[0m Trial 82 finished with value: 0.9201203069902509 and parameters: {'learning_rate': 0.1, 'max_depth': 6, 'min_child_weight': 1, 'gamma': 0.5, 'colsample_bytree': 0.3, 'n_estimators': 850}. Best is trial 57 with value: 0.9206803567724539.\u001b[0m\n",
            "/content/drive/MyDrive/Colab Notebooks/optuna/distributions.py:563: UserWarning:\n",
            "\n",
            "The distribution is specified by [1, 8] and step=2, but the range is not divisible by `step`. It will be replaced by [1, 7].\n",
            "\n",
            "\u001b[32m[I 2021-07-03 09:05:15,872]\u001b[0m Trial 83 finished with value: 0.9207425845260321 and parameters: {'learning_rate': 0.1, 'max_depth': 7, 'min_child_weight': 1, 'gamma': 0.5, 'colsample_bytree': 0.3, 'n_estimators': 900}. Best is trial 83 with value: 0.9207425845260321.\u001b[0m\n",
            "/content/drive/MyDrive/Colab Notebooks/optuna/distributions.py:563: UserWarning:\n",
            "\n",
            "The distribution is specified by [1, 8] and step=2, but the range is not divisible by `step`. It will be replaced by [1, 7].\n",
            "\n",
            "\u001b[32m[I 2021-07-03 09:05:39,067]\u001b[0m Trial 84 finished with value: 0.9207425845260321 and parameters: {'learning_rate': 0.1, 'max_depth': 7, 'min_child_weight': 1, 'gamma': 0.5, 'colsample_bytree': 0.3, 'n_estimators': 900}. Best is trial 83 with value: 0.9207425845260321.\u001b[0m\n",
            "/content/drive/MyDrive/Colab Notebooks/optuna/distributions.py:563: UserWarning:\n",
            "\n",
            "The distribution is specified by [1, 8] and step=2, but the range is not divisible by `step`. It will be replaced by [1, 7].\n",
            "\n",
            "\u001b[32m[I 2021-07-03 09:06:11,528]\u001b[0m Trial 85 finished with value: 0.9183779298900644 and parameters: {'learning_rate': 0.05, 'max_depth': 7, 'min_child_weight': 1, 'gamma': 0.5, 'colsample_bytree': 0.4, 'n_estimators': 950}. Best is trial 83 with value: 0.9207425845260321.\u001b[0m\n",
            "/content/drive/MyDrive/Colab Notebooks/optuna/distributions.py:563: UserWarning:\n",
            "\n",
            "The distribution is specified by [1, 8] and step=2, but the range is not divisible by `step`. It will be replaced by [1, 7].\n",
            "\n",
            "\u001b[32m[I 2021-07-03 09:06:38,495]\u001b[0m Trial 86 finished with value: 0.9199958514830948 and parameters: {'learning_rate': 0.1, 'max_depth': 9, 'min_child_weight': 1, 'gamma': 0.5, 'colsample_bytree': 0.3, 'n_estimators': 900}. Best is trial 83 with value: 0.9207425845260321.\u001b[0m\n",
            "/content/drive/MyDrive/Colab Notebooks/optuna/distributions.py:563: UserWarning:\n",
            "\n",
            "The distribution is specified by [1, 8] and step=2, but the range is not divisible by `step`. It will be replaced by [1, 7].\n",
            "\n",
            "\u001b[32m[I 2021-07-03 09:07:05,417]\u001b[0m Trial 87 finished with value: 0.9197676830533084 and parameters: {'learning_rate': 0.05, 'max_depth': 7, 'min_child_weight': 1, 'gamma': 0.5, 'colsample_bytree': 0.3, 'n_estimators': 1000}. Best is trial 83 with value: 0.9207425845260321.\u001b[0m\n",
            "/content/drive/MyDrive/Colab Notebooks/optuna/distributions.py:563: UserWarning:\n",
            "\n",
            "The distribution is specified by [1, 8] and step=2, but the range is not divisible by `step`. It will be replaced by [1, 7].\n",
            "\n",
            "\u001b[32m[I 2021-07-03 09:07:30,655]\u001b[0m Trial 88 finished with value: 0.91949802945447 and parameters: {'learning_rate': 0.1, 'max_depth': 5, 'min_child_weight': 1, 'gamma': 0.5, 'colsample_bytree': 0.4, 'n_estimators': 1000}. Best is trial 83 with value: 0.9207425845260321.\u001b[0m\n",
            "/content/drive/MyDrive/Colab Notebooks/optuna/distributions.py:563: UserWarning:\n",
            "\n",
            "The distribution is specified by [1, 8] and step=2, but the range is not divisible by `step`. It will be replaced by [1, 7].\n",
            "\n",
            "\u001b[32m[I 2021-07-03 09:07:50,564]\u001b[0m Trial 89 finished with value: 0.9201203069902509 and parameters: {'learning_rate': 0.1, 'max_depth': 6, 'min_child_weight': 1, 'gamma': 0.5, 'colsample_bytree': 0.3, 'n_estimators': 850}. Best is trial 83 with value: 0.9207425845260321.\u001b[0m\n",
            "/content/drive/MyDrive/Colab Notebooks/optuna/distributions.py:563: UserWarning:\n",
            "\n",
            "The distribution is specified by [1, 8] and step=2, but the range is not divisible by `step`. It will be replaced by [1, 7].\n",
            "\n",
            "\u001b[32m[I 2021-07-03 09:08:09,511]\u001b[0m Trial 90 finished with value: 0.919539514623522 and parameters: {'learning_rate': 0.1, 'max_depth': 5, 'min_child_weight': 1, 'gamma': 0.5, 'colsample_bytree': 0.3, 'n_estimators': 900}. Best is trial 83 with value: 0.9207425845260321.\u001b[0m\n",
            "/content/drive/MyDrive/Colab Notebooks/optuna/distributions.py:563: UserWarning:\n",
            "\n",
            "The distribution is specified by [1, 8] and step=2, but the range is not divisible by `step`. It will be replaced by [1, 7].\n",
            "\n",
            "\u001b[32m[I 2021-07-03 09:08:33,819]\u001b[0m Trial 91 finished with value: 0.9206181290188757 and parameters: {'learning_rate': 0.1, 'max_depth': 7, 'min_child_weight': 1, 'gamma': 0.5, 'colsample_bytree': 0.3, 'n_estimators': 950}. Best is trial 83 with value: 0.9207425845260321.\u001b[0m\n",
            "/content/drive/MyDrive/Colab Notebooks/optuna/distributions.py:563: UserWarning:\n",
            "\n",
            "The distribution is specified by [1, 8] and step=2, but the range is not divisible by `step`. It will be replaced by [1, 7].\n",
            "\n",
            "\u001b[32m[I 2021-07-03 09:08:57,956]\u001b[0m Trial 92 finished with value: 0.9206181290188757 and parameters: {'learning_rate': 0.1, 'max_depth': 7, 'min_child_weight': 1, 'gamma': 0.5, 'colsample_bytree': 0.3, 'n_estimators': 950}. Best is trial 83 with value: 0.9207425845260321.\u001b[0m\n",
            "/content/drive/MyDrive/Colab Notebooks/optuna/distributions.py:563: UserWarning:\n",
            "\n",
            "The distribution is specified by [1, 8] and step=2, but the range is not divisible by `step`. It will be replaced by [1, 7].\n",
            "\n",
            "\u001b[32m[I 2021-07-03 09:09:21,971]\u001b[0m Trial 93 finished with value: 0.9206181290188757 and parameters: {'learning_rate': 0.1, 'max_depth': 7, 'min_child_weight': 1, 'gamma': 0.5, 'colsample_bytree': 0.3, 'n_estimators': 950}. Best is trial 83 with value: 0.9207425845260321.\u001b[0m\n",
            "/content/drive/MyDrive/Colab Notebooks/optuna/distributions.py:563: UserWarning:\n",
            "\n",
            "The distribution is specified by [1, 8] and step=2, but the range is not divisible by `step`. It will be replaced by [1, 7].\n",
            "\n",
            "\u001b[32m[I 2021-07-03 09:09:46,179]\u001b[0m Trial 94 finished with value: 0.9206181290188757 and parameters: {'learning_rate': 0.1, 'max_depth': 7, 'min_child_weight': 1, 'gamma': 0.5, 'colsample_bytree': 0.3, 'n_estimators': 950}. Best is trial 83 with value: 0.9207425845260321.\u001b[0m\n",
            "/content/drive/MyDrive/Colab Notebooks/optuna/distributions.py:563: UserWarning:\n",
            "\n",
            "The distribution is specified by [1, 8] and step=2, but the range is not divisible by `step`. It will be replaced by [1, 7].\n",
            "\n",
            "\u001b[32m[I 2021-07-03 09:10:13,016]\u001b[0m Trial 95 finished with value: 0.9197676830533084 and parameters: {'learning_rate': 0.05, 'max_depth': 7, 'min_child_weight': 1, 'gamma': 0.5, 'colsample_bytree': 0.3, 'n_estimators': 1000}. Best is trial 83 with value: 0.9207425845260321.\u001b[0m\n",
            "/content/drive/MyDrive/Colab Notebooks/optuna/distributions.py:563: UserWarning:\n",
            "\n",
            "The distribution is specified by [1, 8] and step=2, but the range is not divisible by `step`. It will be replaced by [1, 7].\n",
            "\n",
            "\u001b[32m[I 2021-07-03 09:10:46,471]\u001b[0m Trial 96 finished with value: 0.9189379796722671 and parameters: {'learning_rate': 0.1, 'max_depth': 8, 'min_child_weight': 1, 'gamma': 0.5, 'colsample_bytree': 0.4, 'n_estimators': 950}. Best is trial 83 with value: 0.9207425845260321.\u001b[0m\n",
            "/content/drive/MyDrive/Colab Notebooks/optuna/distributions.py:563: UserWarning:\n",
            "\n",
            "The distribution is specified by [1, 8] and step=2, but the range is not divisible by `step`. It will be replaced by [1, 7].\n",
            "\n",
            "\u001b[32m[I 2021-07-03 09:11:10,638]\u001b[0m Trial 97 finished with value: 0.9206181290188757 and parameters: {'learning_rate': 0.1, 'max_depth': 7, 'min_child_weight': 1, 'gamma': 0.5, 'colsample_bytree': 0.3, 'n_estimators': 950}. Best is trial 83 with value: 0.9207425845260321.\u001b[0m\n",
            "/content/drive/MyDrive/Colab Notebooks/optuna/distributions.py:563: UserWarning:\n",
            "\n",
            "The distribution is specified by [1, 8] and step=2, but the range is not divisible by `step`. It will be replaced by [1, 7].\n",
            "\n",
            "\u001b[32m[I 2021-07-03 09:11:34,823]\u001b[0m Trial 98 finished with value: 0.9206181290188757 and parameters: {'learning_rate': 0.1, 'max_depth': 7, 'min_child_weight': 1, 'gamma': 0.5, 'colsample_bytree': 0.3, 'n_estimators': 950}. Best is trial 83 with value: 0.9207425845260321.\u001b[0m\n",
            "/content/drive/MyDrive/Colab Notebooks/optuna/distributions.py:563: UserWarning:\n",
            "\n",
            "The distribution is specified by [1, 8] and step=2, but the range is not divisible by `step`. It will be replaced by [1, 7].\n",
            "\n",
            "\u001b[32m[I 2021-07-03 09:12:05,353]\u001b[0m Trial 99 finished with value: 0.9191868906865795 and parameters: {'learning_rate': 0.1, 'max_depth': 7, 'min_child_weight': 1, 'gamma': 0.5, 'colsample_bytree': 0.4, 'n_estimators': 950}. Best is trial 83 with value: 0.9207425845260321.\u001b[0m\n"
          ],
          "name": "stderr"
        },
        {
          "output_type": "error",
          "ename": "AttributeError",
          "evalue": "ignored",
          "traceback": [
            "\u001b[0;31m---------------------------------------------------------------------------\u001b[0m",
            "\u001b[0;31mAttributeError\u001b[0m                            Traceback (most recent call last)",
            "\u001b[0;32m<ipython-input-38-7ead52b42e3c>\u001b[0m in \u001b[0;36m<module>\u001b[0;34m()\u001b[0m\n\u001b[1;32m      1\u001b[0m \u001b[0mstudy\u001b[0m \u001b[0;34m=\u001b[0m \u001b[0moptuna\u001b[0m\u001b[0;34m.\u001b[0m\u001b[0mcreate_study\u001b[0m\u001b[0;34m(\u001b[0m\u001b[0mdirection\u001b[0m\u001b[0;34m=\u001b[0m\u001b[0;34m'maximize'\u001b[0m\u001b[0;34m)\u001b[0m\u001b[0;34m\u001b[0m\u001b[0;34m\u001b[0m\u001b[0m\n\u001b[1;32m      2\u001b[0m \u001b[0mstudy\u001b[0m\u001b[0;34m.\u001b[0m\u001b[0moptimize\u001b[0m\u001b[0;34m(\u001b[0m\u001b[0mobjective\u001b[0m\u001b[0;34m,\u001b[0m\u001b[0mn_trials\u001b[0m \u001b[0;34m=\u001b[0m \u001b[0;36m100\u001b[0m\u001b[0;34m)\u001b[0m\u001b[0;34m\u001b[0m\u001b[0;34m\u001b[0m\u001b[0m\n\u001b[0;32m----> 3\u001b[0;31m \u001b[0mtrial\u001b[0m \u001b[0;34m=\u001b[0m \u001b[0mstudy\u001b[0m\u001b[0;34m.\u001b[0m\u001b[0mbest_trail\u001b[0m\u001b[0;34m\u001b[0m\u001b[0;34m\u001b[0m\u001b[0m\n\u001b[0m\u001b[1;32m      4\u001b[0m \u001b[0mprint\u001b[0m\u001b[0;34m(\u001b[0m\u001b[0;34m'Accuracy: {}'\u001b[0m\u001b[0;34m.\u001b[0m\u001b[0mformat\u001b[0m\u001b[0;34m(\u001b[0m\u001b[0mtrial\u001b[0m\u001b[0;34m.\u001b[0m\u001b[0mvalue\u001b[0m\u001b[0;34m)\u001b[0m\u001b[0;34m)\u001b[0m\u001b[0;34m\u001b[0m\u001b[0;34m\u001b[0m\u001b[0m\n\u001b[1;32m      5\u001b[0m \u001b[0mprint\u001b[0m\u001b[0;34m(\u001b[0m\u001b[0;34m\"Best hyperparameters: {}\"\u001b[0m\u001b[0;34m.\u001b[0m\u001b[0mformat\u001b[0m\u001b[0;34m(\u001b[0m\u001b[0mtrial\u001b[0m\u001b[0;34m.\u001b[0m\u001b[0mparams\u001b[0m\u001b[0;34m)\u001b[0m\u001b[0;34m)\u001b[0m\u001b[0;34m\u001b[0m\u001b[0;34m\u001b[0m\u001b[0m\n",
            "\u001b[0;31mAttributeError\u001b[0m: 'Study' object has no attribute 'best_trail'"
          ]
        }
      ]
    },
    {
      "cell_type": "code",
      "metadata": {
        "colab": {
          "base_uri": "https://localhost:8080/"
        },
        "id": "hI2wQE-duJX7",
        "outputId": "19228837-4eb8-47a0-ef7c-122c5299120f"
      },
      "source": [
        "trial = study.best_trial\n",
        "print('Accuracy: {}'.format(trial.value))\n",
        "print(\"Best hyperparameters: {}\".format(trial.params))"
      ],
      "execution_count": null,
      "outputs": [
        {
          "output_type": "stream",
          "text": [
            "Accuracy: 0.9207425845260321\n",
            "Best hyperparameters: {'learning_rate': 0.1, 'max_depth': 7, 'min_child_weight': 1, 'gamma': 0.5, 'colsample_bytree': 0.3, 'n_estimators': 900}\n"
          ],
          "name": "stdout"
        }
      ]
    },
    {
      "cell_type": "markdown",
      "metadata": {
        "id": "1Sqs9lbbjQhK"
      },
      "source": [
        "**Now we will fit the whole dataset**"
      ]
    },
    {
      "cell_type": "code",
      "metadata": {
        "id": "gd5ha5cPy5xn"
      },
      "source": [
        "full_dataset = pd.read_csv('/content/drive/MyDrive/Colab Notebooks/train.csv',index_col=0)"
      ],
      "execution_count": 32,
      "outputs": []
    },
    {
      "cell_type": "code",
      "metadata": {
        "id": "TZwAQtbhvjk2"
      },
      "source": [
        "X_f = full_dataset.drop('Response',axis=1)\n",
        "y_f = full_dataset.Response"
      ],
      "execution_count": 33,
      "outputs": []
    },
    {
      "cell_type": "code",
      "metadata": {
        "colab": {
          "base_uri": "https://localhost:8080/"
        },
        "id": "QeNlEHtnvX57",
        "outputId": "e79db392-4ff3-4c51-9e9c-f3d15da6c3ae"
      },
      "source": [
        "numerical_cols = [col for col in X_f.columns if X_f[col].dtypes != 'O']\n",
        "numerical_cols"
      ],
      "execution_count": 34,
      "outputs": [
        {
          "output_type": "execute_result",
          "data": {
            "text/plain": [
              "['Age',\n",
              " 'Driving_License',\n",
              " 'Region_Code',\n",
              " 'Previously_Insured',\n",
              " 'Annual_Premium',\n",
              " 'Policy_Sales_Channel',\n",
              " 'Vintage']"
            ]
          },
          "metadata": {
            "tags": []
          },
          "execution_count": 34
        }
      ]
    },
    {
      "cell_type": "code",
      "metadata": {
        "colab": {
          "base_uri": "https://localhost:8080/"
        },
        "id": "ry5KbOISvX6F",
        "outputId": "9be91496-b906-40f7-a756-1af7f443f614"
      },
      "source": [
        "categorical_cols = [col for col in X_f.columns if X_f[col].dtypes == 'O']\n",
        "categorical_cols"
      ],
      "execution_count": 35,
      "outputs": [
        {
          "output_type": "execute_result",
          "data": {
            "text/plain": [
              "['Gender', 'Vehicle_Age', 'Vehicle_Damage']"
            ]
          },
          "metadata": {
            "tags": []
          },
          "execution_count": 35
        }
      ]
    },
    {
      "cell_type": "code",
      "metadata": {
        "colab": {
          "base_uri": "https://localhost:8080/"
        },
        "id": "dc-UPDLDvX6F",
        "outputId": "4abb0813-ce6f-4611-d00f-d412d4fa7f59"
      },
      "source": [
        "continuous_numerical_cols = [col for col in numerical_cols if len(X_f[col].unique())>25]\n",
        "continuous_numerical_cols.remove('Region_Code')\n",
        "continuous_numerical_cols"
      ],
      "execution_count": 36,
      "outputs": [
        {
          "output_type": "execute_result",
          "data": {
            "text/plain": [
              "['Age', 'Annual_Premium', 'Policy_Sales_Channel', 'Vintage']"
            ]
          },
          "metadata": {
            "tags": []
          },
          "execution_count": 36
        }
      ]
    },
    {
      "cell_type": "code",
      "metadata": {
        "colab": {
          "base_uri": "https://localhost:8080/"
        },
        "id": "Ggu6i3ejvX6G",
        "outputId": "5c45b961-968f-43da-f26f-599facc9b611"
      },
      "source": [
        "discrete_numerical_cols = [col for col in numerical_cols if col not in continuous_numerical_cols]\n",
        "discrete_numerical_cols"
      ],
      "execution_count": 37,
      "outputs": [
        {
          "output_type": "execute_result",
          "data": {
            "text/plain": [
              "['Driving_License', 'Region_Code', 'Previously_Insured']"
            ]
          },
          "metadata": {
            "tags": []
          },
          "execution_count": 37
        }
      ]
    },
    {
      "cell_type": "code",
      "metadata": {
        "id": "TxzHvNYmvX6G"
      },
      "source": [
        "gender_ohe = pd.get_dummies(X_f['Gender'],drop_first=True)\n",
        "vehicle_damage_ohe = pd.get_dummies(X_f['Vehicle_Damage'],drop_first=True,prefix='Vehicle_Damage')\n",
        "X_f.drop(['Gender','Vehicle_Damage'],axis=1,inplace=True)\n"
      ],
      "execution_count": 38,
      "outputs": []
    },
    {
      "cell_type": "code",
      "metadata": {
        "colab": {
          "base_uri": "https://localhost:8080/",
          "height": 234
        },
        "id": "BydW4yurvX6G",
        "outputId": "6ce9f361-8a1e-48d8-9c85-2e297b23e478"
      },
      "source": [
        "X_f = pd.concat([X_f,gender_ohe,vehicle_damage_ohe],axis=1)\n",
        "X_f.head()"
      ],
      "execution_count": 39,
      "outputs": [
        {
          "output_type": "execute_result",
          "data": {
            "text/html": [
              "<div>\n",
              "<style scoped>\n",
              "    .dataframe tbody tr th:only-of-type {\n",
              "        vertical-align: middle;\n",
              "    }\n",
              "\n",
              "    .dataframe tbody tr th {\n",
              "        vertical-align: top;\n",
              "    }\n",
              "\n",
              "    .dataframe thead th {\n",
              "        text-align: right;\n",
              "    }\n",
              "</style>\n",
              "<table border=\"1\" class=\"dataframe\">\n",
              "  <thead>\n",
              "    <tr style=\"text-align: right;\">\n",
              "      <th></th>\n",
              "      <th>Age</th>\n",
              "      <th>Driving_License</th>\n",
              "      <th>Region_Code</th>\n",
              "      <th>Previously_Insured</th>\n",
              "      <th>Vehicle_Age</th>\n",
              "      <th>Annual_Premium</th>\n",
              "      <th>Policy_Sales_Channel</th>\n",
              "      <th>Vintage</th>\n",
              "      <th>Male</th>\n",
              "      <th>Vehicle_Damage_Yes</th>\n",
              "    </tr>\n",
              "    <tr>\n",
              "      <th>id</th>\n",
              "      <th></th>\n",
              "      <th></th>\n",
              "      <th></th>\n",
              "      <th></th>\n",
              "      <th></th>\n",
              "      <th></th>\n",
              "      <th></th>\n",
              "      <th></th>\n",
              "      <th></th>\n",
              "      <th></th>\n",
              "    </tr>\n",
              "  </thead>\n",
              "  <tbody>\n",
              "    <tr>\n",
              "      <th>1</th>\n",
              "      <td>44</td>\n",
              "      <td>1</td>\n",
              "      <td>28.0</td>\n",
              "      <td>0</td>\n",
              "      <td>&gt; 2 Years</td>\n",
              "      <td>40454.0</td>\n",
              "      <td>26.0</td>\n",
              "      <td>217</td>\n",
              "      <td>1</td>\n",
              "      <td>1</td>\n",
              "    </tr>\n",
              "    <tr>\n",
              "      <th>2</th>\n",
              "      <td>76</td>\n",
              "      <td>1</td>\n",
              "      <td>3.0</td>\n",
              "      <td>0</td>\n",
              "      <td>1-2 Year</td>\n",
              "      <td>33536.0</td>\n",
              "      <td>26.0</td>\n",
              "      <td>183</td>\n",
              "      <td>1</td>\n",
              "      <td>0</td>\n",
              "    </tr>\n",
              "    <tr>\n",
              "      <th>3</th>\n",
              "      <td>47</td>\n",
              "      <td>1</td>\n",
              "      <td>28.0</td>\n",
              "      <td>0</td>\n",
              "      <td>&gt; 2 Years</td>\n",
              "      <td>38294.0</td>\n",
              "      <td>26.0</td>\n",
              "      <td>27</td>\n",
              "      <td>1</td>\n",
              "      <td>1</td>\n",
              "    </tr>\n",
              "    <tr>\n",
              "      <th>4</th>\n",
              "      <td>21</td>\n",
              "      <td>1</td>\n",
              "      <td>11.0</td>\n",
              "      <td>1</td>\n",
              "      <td>&lt; 1 Year</td>\n",
              "      <td>28619.0</td>\n",
              "      <td>152.0</td>\n",
              "      <td>203</td>\n",
              "      <td>1</td>\n",
              "      <td>0</td>\n",
              "    </tr>\n",
              "    <tr>\n",
              "      <th>5</th>\n",
              "      <td>29</td>\n",
              "      <td>1</td>\n",
              "      <td>41.0</td>\n",
              "      <td>1</td>\n",
              "      <td>&lt; 1 Year</td>\n",
              "      <td>27496.0</td>\n",
              "      <td>152.0</td>\n",
              "      <td>39</td>\n",
              "      <td>0</td>\n",
              "      <td>0</td>\n",
              "    </tr>\n",
              "  </tbody>\n",
              "</table>\n",
              "</div>"
            ],
            "text/plain": [
              "    Age  Driving_License  Region_Code  Previously_Insured Vehicle_Age  \\\n",
              "id                                                                      \n",
              "1    44                1         28.0                   0   > 2 Years   \n",
              "2    76                1          3.0                   0    1-2 Year   \n",
              "3    47                1         28.0                   0   > 2 Years   \n",
              "4    21                1         11.0                   1    < 1 Year   \n",
              "5    29                1         41.0                   1    < 1 Year   \n",
              "\n",
              "    Annual_Premium  Policy_Sales_Channel  Vintage  Male  Vehicle_Damage_Yes  \n",
              "id                                                                           \n",
              "1          40454.0                  26.0      217     1                   1  \n",
              "2          33536.0                  26.0      183     1                   0  \n",
              "3          38294.0                  26.0       27     1                   1  \n",
              "4          28619.0                 152.0      203     1                   0  \n",
              "5          27496.0                 152.0       39     0                   0  "
            ]
          },
          "metadata": {
            "tags": []
          },
          "execution_count": 39
        }
      ]
    },
    {
      "cell_type": "code",
      "metadata": {
        "id": "62CI46LzvX6G"
      },
      "source": [
        "for i,j in enumerate(X_f['Vehicle_Age'].unique().tolist()[::-1]):\n",
        "    X_f['Vehicle_Age'] = np.where(X_f['Vehicle_Age']==j,i+1,X_f['Vehicle_Age'])"
      ],
      "execution_count": 40,
      "outputs": []
    },
    {
      "cell_type": "code",
      "metadata": {
        "colab": {
          "base_uri": "https://localhost:8080/"
        },
        "id": "v_5hsWxWvX6G",
        "outputId": "ae8fd111-a2d0-46ce-8f5b-cb9f76b1d2b2"
      },
      "source": [
        "from  imblearn.combine import SMOTETomek\n",
        "os = SMOTETomek(random_state=33)\n",
        "X_os_f,y_os_f = os.fit_resample(X_f,y_f)"
      ],
      "execution_count": 41,
      "outputs": [
        {
          "output_type": "stream",
          "text": [
            "/usr/local/lib/python3.7/dist-packages/sklearn/utils/deprecation.py:87: FutureWarning: Function safe_indexing is deprecated; safe_indexing is deprecated in version 0.22 and will be removed in version 0.24.\n",
            "  warnings.warn(msg, category=FutureWarning)\n",
            "/usr/local/lib/python3.7/dist-packages/sklearn/utils/deprecation.py:87: FutureWarning: Function safe_indexing is deprecated; safe_indexing is deprecated in version 0.22 and will be removed in version 0.24.\n",
            "  warnings.warn(msg, category=FutureWarning)\n"
          ],
          "name": "stderr"
        }
      ]
    },
    {
      "cell_type": "code",
      "metadata": {
        "id": "kRzzGkCbvX6G"
      },
      "source": [
        "X_os_f = pd.DataFrame(X_os_f,columns = X_f.columns)\n",
        "y_os_f = pd.DataFrame(y_os_f)"
      ],
      "execution_count": 42,
      "outputs": []
    },
    {
      "cell_type": "code",
      "metadata": {
        "id": "MEVShcOPvX6G"
      },
      "source": [
        "from sklearn.model_selection import train_test_split\n",
        "X_train_full,X_valid_full,y_train_full,y_valid_full = train_test_split(X_os_f,y_os_f,random_state=42,test_size=0.25)\n"
      ],
      "execution_count": 43,
      "outputs": []
    },
    {
      "cell_type": "code",
      "metadata": {
        "id": "RvlSzNLwvX6G"
      },
      "source": [
        "from sklearn.preprocessing import StandardScaler\n",
        "scalar = StandardScaler()\n",
        "X_train_full = pd.DataFrame(scalar.fit_transform(X_train_full),columns = X_os_f.columns)\n",
        "X_valid_full = pd.DataFrame(scalar.transform(X_valid_full),columns = X_os_f.columns)"
      ],
      "execution_count": 44,
      "outputs": []
    },
    {
      "cell_type": "code",
      "metadata": {
        "colab": {
          "base_uri": "https://localhost:8080/",
          "height": 203
        },
        "id": "3B_8Hby3vX6G",
        "outputId": "71427cd4-7849-4e63-ef9a-278b6c7ae0b7"
      },
      "source": [
        "X_train_full.head()"
      ],
      "execution_count": 45,
      "outputs": [
        {
          "output_type": "execute_result",
          "data": {
            "text/html": [
              "<div>\n",
              "<style scoped>\n",
              "    .dataframe tbody tr th:only-of-type {\n",
              "        vertical-align: middle;\n",
              "    }\n",
              "\n",
              "    .dataframe tbody tr th {\n",
              "        vertical-align: top;\n",
              "    }\n",
              "\n",
              "    .dataframe thead th {\n",
              "        text-align: right;\n",
              "    }\n",
              "</style>\n",
              "<table border=\"1\" class=\"dataframe\">\n",
              "  <thead>\n",
              "    <tr style=\"text-align: right;\">\n",
              "      <th></th>\n",
              "      <th>Age</th>\n",
              "      <th>Driving_License</th>\n",
              "      <th>Region_Code</th>\n",
              "      <th>Previously_Insured</th>\n",
              "      <th>Vehicle_Age</th>\n",
              "      <th>Annual_Premium</th>\n",
              "      <th>Policy_Sales_Channel</th>\n",
              "      <th>Vintage</th>\n",
              "      <th>Male</th>\n",
              "      <th>Vehicle_Damage_Yes</th>\n",
              "    </tr>\n",
              "  </thead>\n",
              "  <tbody>\n",
              "    <tr>\n",
              "      <th>0</th>\n",
              "      <td>-1.278778</td>\n",
              "      <td>0.041515</td>\n",
              "      <td>-0.792993</td>\n",
              "      <td>1.669788</td>\n",
              "      <td>-1.396623</td>\n",
              "      <td>0.057681</td>\n",
              "      <td>0.874099</td>\n",
              "      <td>1.689196</td>\n",
              "      <td>-1.238686</td>\n",
              "      <td>-1.562978</td>\n",
              "    </tr>\n",
              "    <tr>\n",
              "      <th>1</th>\n",
              "      <td>-1.350975</td>\n",
              "      <td>0.041515</td>\n",
              "      <td>-1.949684</td>\n",
              "      <td>1.669788</td>\n",
              "      <td>-1.396623</td>\n",
              "      <td>-0.504496</td>\n",
              "      <td>0.874099</td>\n",
              "      <td>0.138847</td>\n",
              "      <td>0.933964</td>\n",
              "      <td>-1.562978</td>\n",
              "    </tr>\n",
              "    <tr>\n",
              "      <th>2</th>\n",
              "      <td>-0.284657</td>\n",
              "      <td>0.041515</td>\n",
              "      <td>-1.002772</td>\n",
              "      <td>-0.600287</td>\n",
              "      <td>0.452360</td>\n",
              "      <td>-0.628865</td>\n",
              "      <td>1.044705</td>\n",
              "      <td>-0.515408</td>\n",
              "      <td>0.933964</td>\n",
              "      <td>0.648316</td>\n",
              "    </tr>\n",
              "    <tr>\n",
              "      <th>3</th>\n",
              "      <td>0.165165</td>\n",
              "      <td>0.041515</td>\n",
              "      <td>1.933492</td>\n",
              "      <td>-0.600287</td>\n",
              "      <td>0.452360</td>\n",
              "      <td>-0.488484</td>\n",
              "      <td>-1.392671</td>\n",
              "      <td>0.835903</td>\n",
              "      <td>0.933964</td>\n",
              "      <td>0.648316</td>\n",
              "    </tr>\n",
              "    <tr>\n",
              "      <th>4</th>\n",
              "      <td>-0.123623</td>\n",
              "      <td>0.041515</td>\n",
              "      <td>1.933492</td>\n",
              "      <td>1.669788</td>\n",
              "      <td>0.452360</td>\n",
              "      <td>1.154821</td>\n",
              "      <td>-1.716495</td>\n",
              "      <td>-1.471594</td>\n",
              "      <td>0.933964</td>\n",
              "      <td>-1.562978</td>\n",
              "    </tr>\n",
              "  </tbody>\n",
              "</table>\n",
              "</div>"
            ],
            "text/plain": [
              "        Age  Driving_License  Region_Code  Previously_Insured  Vehicle_Age  \\\n",
              "0 -1.278778         0.041515    -0.792993            1.669788    -1.396623   \n",
              "1 -1.350975         0.041515    -1.949684            1.669788    -1.396623   \n",
              "2 -0.284657         0.041515    -1.002772           -0.600287     0.452360   \n",
              "3  0.165165         0.041515     1.933492           -0.600287     0.452360   \n",
              "4 -0.123623         0.041515     1.933492            1.669788     0.452360   \n",
              "\n",
              "   Annual_Premium  Policy_Sales_Channel   Vintage      Male  \\\n",
              "0        0.057681              0.874099  1.689196 -1.238686   \n",
              "1       -0.504496              0.874099  0.138847  0.933964   \n",
              "2       -0.628865              1.044705 -0.515408  0.933964   \n",
              "3       -0.488484             -1.392671  0.835903  0.933964   \n",
              "4        1.154821             -1.716495 -1.471594  0.933964   \n",
              "\n",
              "   Vehicle_Damage_Yes  \n",
              "0           -1.562978  \n",
              "1           -1.562978  \n",
              "2            0.648316  \n",
              "3            0.648316  \n",
              "4           -1.562978  "
            ]
          },
          "metadata": {
            "tags": []
          },
          "execution_count": 45
        }
      ]
    },
    {
      "cell_type": "code",
      "metadata": {
        "colab": {
          "base_uri": "https://localhost:8080/"
        },
        "id": "5ZzzVvivw2R1",
        "outputId": "26b4bf90-072d-472b-c389-0dc12a9fe7af"
      },
      "source": [
        "es = ft.EntitySet(id = 'health_full')\n",
        "es.entity_from_dataframe(entity_id = 'hr_full', dataframe = X_train_full, index = 'index')\n",
        "\n",
        "# Run deep feature synthesis with transformation primitives\n",
        "feature_matrix_full, feature_defs_full = ft.dfs(entityset = es, target_entity = 'hr_full',\n",
        "                                      trans_primitives = ['add_numeric', 'multiply_numeric'], \n",
        "                                      verbose=True)"
      ],
      "execution_count": 46,
      "outputs": [
        {
          "output_type": "stream",
          "text": [
            "Built 100 features\n",
            "\rElapsed: 00:00 | Progress:   0%|          "
          ],
          "name": "stdout"
        },
        {
          "output_type": "stream",
          "text": [
            "/content/drive/MyDrive/Colab Notebooks/featuretools/entityset/entity.py:463: UserWarning: index index not found in dataframe, creating new integer column\n",
            "  \"integer column\".format(index))\n",
            "/content/drive/MyDrive/Colab Notebooks/featuretools/synthesis/deep_feature_synthesis.py:152: UserWarning: Only one entity in entityset, changing max_depth to 1 since deeper features cannot be created\n",
            "  warnings.warn(\"Only one entity in entityset, changing max_depth to \"\n"
          ],
          "name": "stderr"
        },
        {
          "output_type": "stream",
          "text": [
            "Elapsed: 00:03 | Progress: 100%|██████████\n"
          ],
          "name": "stdout"
        }
      ]
    },
    {
      "cell_type": "code",
      "metadata": {
        "id": "HLEbqqB2xlCU",
        "colab": {
          "base_uri": "https://localhost:8080/",
          "height": 250
        },
        "outputId": "b9b46da3-82dc-4f52-cdde-8b9a1dcf35f2"
      },
      "source": [
        "feature_matrix_full = feature_matrix_full[feature_matrix.columns]\n",
        "feature_matrix_full.head()"
      ],
      "execution_count": 47,
      "outputs": [
        {
          "output_type": "execute_result",
          "data": {
            "text/html": [
              "<div>\n",
              "<style scoped>\n",
              "    .dataframe tbody tr th:only-of-type {\n",
              "        vertical-align: middle;\n",
              "    }\n",
              "\n",
              "    .dataframe tbody tr th {\n",
              "        vertical-align: top;\n",
              "    }\n",
              "\n",
              "    .dataframe thead th {\n",
              "        text-align: right;\n",
              "    }\n",
              "</style>\n",
              "<table border=\"1\" class=\"dataframe\">\n",
              "  <thead>\n",
              "    <tr style=\"text-align: right;\">\n",
              "      <th></th>\n",
              "      <th>Previously_Insured * Vehicle_Damage_Yes</th>\n",
              "      <th>Previously_Insured + Vehicle_Age</th>\n",
              "      <th>Age * Driving_License</th>\n",
              "      <th>Policy_Sales_Channel + Vehicle_Age</th>\n",
              "      <th>Vehicle_Age * Vehicle_Damage_Yes</th>\n",
              "      <th>Vehicle_Damage_Yes * Vintage</th>\n",
              "      <th>Male * Vehicle_Damage_Yes</th>\n",
              "      <th>Vehicle_Damage_Yes</th>\n",
              "    </tr>\n",
              "    <tr>\n",
              "      <th>index</th>\n",
              "      <th></th>\n",
              "      <th></th>\n",
              "      <th></th>\n",
              "      <th></th>\n",
              "      <th></th>\n",
              "      <th></th>\n",
              "      <th></th>\n",
              "      <th></th>\n",
              "    </tr>\n",
              "  </thead>\n",
              "  <tbody>\n",
              "    <tr>\n",
              "      <th>0</th>\n",
              "      <td>-2.609842</td>\n",
              "      <td>0.273165</td>\n",
              "      <td>-0.053088</td>\n",
              "      <td>-0.522523</td>\n",
              "      <td>2.182891</td>\n",
              "      <td>-2.640177</td>\n",
              "      <td>1.936039</td>\n",
              "      <td>-1.562978</td>\n",
              "    </tr>\n",
              "    <tr>\n",
              "      <th>1</th>\n",
              "      <td>-2.609842</td>\n",
              "      <td>0.273165</td>\n",
              "      <td>-0.056085</td>\n",
              "      <td>-0.522523</td>\n",
              "      <td>2.182891</td>\n",
              "      <td>-0.217014</td>\n",
              "      <td>-1.459765</td>\n",
              "      <td>-1.562978</td>\n",
              "    </tr>\n",
              "    <tr>\n",
              "      <th>2</th>\n",
              "      <td>-0.389176</td>\n",
              "      <td>-0.147927</td>\n",
              "      <td>-0.011817</td>\n",
              "      <td>1.497066</td>\n",
              "      <td>0.293272</td>\n",
              "      <td>-0.334147</td>\n",
              "      <td>0.605503</td>\n",
              "      <td>0.648316</td>\n",
              "    </tr>\n",
              "    <tr>\n",
              "      <th>3</th>\n",
              "      <td>-0.389176</td>\n",
              "      <td>-0.147927</td>\n",
              "      <td>0.006857</td>\n",
              "      <td>-0.940311</td>\n",
              "      <td>0.293272</td>\n",
              "      <td>0.541929</td>\n",
              "      <td>0.605503</td>\n",
              "      <td>0.648316</td>\n",
              "    </tr>\n",
              "    <tr>\n",
              "      <th>4</th>\n",
              "      <td>-2.609842</td>\n",
              "      <td>2.122148</td>\n",
              "      <td>-0.005132</td>\n",
              "      <td>-1.264135</td>\n",
              "      <td>-0.707029</td>\n",
              "      <td>2.300069</td>\n",
              "      <td>-1.459765</td>\n",
              "      <td>-1.562978</td>\n",
              "    </tr>\n",
              "  </tbody>\n",
              "</table>\n",
              "</div>"
            ],
            "text/plain": [
              "       Previously_Insured * Vehicle_Damage_Yes  \\\n",
              "index                                            \n",
              "0                                    -2.609842   \n",
              "1                                    -2.609842   \n",
              "2                                    -0.389176   \n",
              "3                                    -0.389176   \n",
              "4                                    -2.609842   \n",
              "\n",
              "       Previously_Insured + Vehicle_Age  Age * Driving_License  \\\n",
              "index                                                            \n",
              "0                              0.273165              -0.053088   \n",
              "1                              0.273165              -0.056085   \n",
              "2                             -0.147927              -0.011817   \n",
              "3                             -0.147927               0.006857   \n",
              "4                              2.122148              -0.005132   \n",
              "\n",
              "       Policy_Sales_Channel + Vehicle_Age  Vehicle_Age * Vehicle_Damage_Yes  \\\n",
              "index                                                                         \n",
              "0                               -0.522523                          2.182891   \n",
              "1                               -0.522523                          2.182891   \n",
              "2                                1.497066                          0.293272   \n",
              "3                               -0.940311                          0.293272   \n",
              "4                               -1.264135                         -0.707029   \n",
              "\n",
              "       Vehicle_Damage_Yes * Vintage  Male * Vehicle_Damage_Yes  \\\n",
              "index                                                            \n",
              "0                         -2.640177                   1.936039   \n",
              "1                         -0.217014                  -1.459765   \n",
              "2                         -0.334147                   0.605503   \n",
              "3                          0.541929                   0.605503   \n",
              "4                          2.300069                  -1.459765   \n",
              "\n",
              "       Vehicle_Damage_Yes  \n",
              "index                      \n",
              "0               -1.562978  \n",
              "1               -1.562978  \n",
              "2                0.648316  \n",
              "3                0.648316  \n",
              "4               -1.562978  "
            ]
          },
          "metadata": {
            "tags": []
          },
          "execution_count": 47
        }
      ]
    },
    {
      "cell_type": "code",
      "metadata": {
        "colab": {
          "base_uri": "https://localhost:8080/"
        },
        "id": "huqUxUl3yDw1",
        "outputId": "58d184e6-05d8-4928-f70e-66112cfcd19c"
      },
      "source": [
        "es_valid = ft.EntitySet(id = 'health_test_full')\n",
        "es_valid.entity_from_dataframe(entity_id = 'hr_test_full', dataframe = X_valid_full, index = 'index')\n",
        "\n",
        "# Run deep feature synthesis with transformation primitives\n",
        "feature_matrix_test_full, feature_defs_test_full = ft.dfs(entityset = es_valid, target_entity = 'hr_test_full',\n",
        "                                      trans_primitives = ['add_numeric', 'multiply_numeric'], \n",
        "                                      verbose=True)"
      ],
      "execution_count": 48,
      "outputs": [
        {
          "output_type": "stream",
          "text": [
            "Built 100 features\n",
            "\rElapsed: 00:00 | Progress:   0%|          "
          ],
          "name": "stdout"
        },
        {
          "output_type": "stream",
          "text": [
            "/content/drive/MyDrive/Colab Notebooks/featuretools/entityset/entity.py:463: UserWarning: index index not found in dataframe, creating new integer column\n",
            "  \"integer column\".format(index))\n",
            "/content/drive/MyDrive/Colab Notebooks/featuretools/synthesis/deep_feature_synthesis.py:152: UserWarning: Only one entity in entityset, changing max_depth to 1 since deeper features cannot be created\n",
            "  warnings.warn(\"Only one entity in entityset, changing max_depth to \"\n"
          ],
          "name": "stderr"
        },
        {
          "output_type": "stream",
          "text": [
            "Elapsed: 00:01 | Progress: 100%|██████████\n"
          ],
          "name": "stdout"
        }
      ]
    },
    {
      "cell_type": "code",
      "metadata": {
        "id": "WDvhk0hkyXHo"
      },
      "source": [
        "feature_matrix_test_full = feature_matrix_test_full[feature_matrix_full.columns]"
      ],
      "execution_count": 49,
      "outputs": []
    },
    {
      "cell_type": "code",
      "metadata": {
        "id": "RnGMqgWWyq6K",
        "colab": {
          "base_uri": "https://localhost:8080/"
        },
        "outputId": "d98ba6a8-2d7c-462d-a79c-a57b087dcf9f"
      },
      "source": [
        "clf = XGBClassifier(learning_rate= 0.1, max_depth= 7, min_child_weight= 1, gamma= 0.5, colsample_bytree= 0.3, n_estimators= 900)\n",
        "clf.fit(feature_matrix_full,y_train_full)"
      ],
      "execution_count": 50,
      "outputs": [
        {
          "output_type": "stream",
          "text": [
            "/usr/local/lib/python3.7/dist-packages/sklearn/preprocessing/_label.py:235: DataConversionWarning: A column-vector y was passed when a 1d array was expected. Please change the shape of y to (n_samples, ), for example using ravel().\n",
            "  y = column_or_1d(y, warn=True)\n",
            "/usr/local/lib/python3.7/dist-packages/sklearn/preprocessing/_label.py:268: DataConversionWarning: A column-vector y was passed when a 1d array was expected. Please change the shape of y to (n_samples, ), for example using ravel().\n",
            "  y = column_or_1d(y, warn=True)\n"
          ],
          "name": "stderr"
        },
        {
          "output_type": "execute_result",
          "data": {
            "text/plain": [
              "XGBClassifier(base_score=0.5, booster='gbtree', colsample_bylevel=1,\n",
              "              colsample_bynode=1, colsample_bytree=0.3, gamma=0.5,\n",
              "              learning_rate=0.1, max_delta_step=0, max_depth=7,\n",
              "              min_child_weight=1, missing=None, n_estimators=900, n_jobs=1,\n",
              "              nthread=None, objective='binary:logistic', random_state=0,\n",
              "              reg_alpha=0, reg_lambda=1, scale_pos_weight=1, seed=None,\n",
              "              silent=None, subsample=1, verbosity=1)"
            ]
          },
          "metadata": {
            "tags": []
          },
          "execution_count": 50
        }
      ]
    },
    {
      "cell_type": "code",
      "metadata": {
        "id": "67lBfAjRzTVJ"
      },
      "source": [
        "y_pred = clf.predict(feature_matrix_test_full)"
      ],
      "execution_count": 51,
      "outputs": []
    },
    {
      "cell_type": "code",
      "metadata": {
        "id": "hhSWFYfvy5xn",
        "colab": {
          "base_uri": "https://localhost:8080/"
        },
        "outputId": "d8dda0ba-ea6b-4d04-e18d-8cb47fbc96e3"
      },
      "source": [
        "from sklearn.metrics import classification_report,accuracy_score\n",
        "score = accuracy_score(y_valid_full,y_pred)\n",
        "score"
      ],
      "execution_count": 52,
      "outputs": [
        {
          "output_type": "execute_result",
          "data": {
            "text/plain": [
              "0.9257470348463024"
            ]
          },
          "metadata": {
            "tags": []
          },
          "execution_count": 52
        }
      ]
    },
    {
      "cell_type": "code",
      "metadata": {
        "colab": {
          "base_uri": "https://localhost:8080/"
        },
        "id": "0WlpLwgQjZkZ",
        "outputId": "0e7d2842-3a6f-4c9d-ec50-e289e9be4118"
      },
      "source": [
        "from sklearn.metrics import classification_report\n",
        "report  = classification_report(y_valid_full,y_pred)\n",
        "print(report)"
      ],
      "execution_count": 59,
      "outputs": [
        {
          "output_type": "stream",
          "text": [
            "              precision    recall  f1-score   support\n",
            "\n",
            "           0       0.87      1.00      0.93     81451\n",
            "           1       1.00      0.86      0.92     81694\n",
            "\n",
            "    accuracy                           0.93    163145\n",
            "   macro avg       0.93      0.93      0.93    163145\n",
            "weighted avg       0.93      0.93      0.93    163145\n",
            "\n"
          ],
          "name": "stdout"
        }
      ]
    },
    {
      "cell_type": "code",
      "metadata": {
        "id": "6dGGz5oVy5xo"
      },
      "source": [
        "import pickle\n",
        "pickle.dump(clf, open(\"model.pkl\", \"wb\"))"
      ],
      "execution_count": 54,
      "outputs": []
    },
    {
      "cell_type": "code",
      "metadata": {
        "id": "hj48xSK87sME"
      },
      "source": [
        "loaded_model = pickle.load(open(\"/content/model.pkl\", \"rb\"))"
      ],
      "execution_count": 55,
      "outputs": []
    },
    {
      "cell_type": "code",
      "metadata": {
        "id": "tZU7lLOVi5Mi"
      },
      "source": [
        "y_pred = loaded_model.predict(feature_matrix_test_full)"
      ],
      "execution_count": 56,
      "outputs": []
    },
    {
      "cell_type": "code",
      "metadata": {
        "id": "aQtBEViijFwO",
        "colab": {
          "base_uri": "https://localhost:8080/"
        },
        "outputId": "0a0795b2-9aff-4234-c34e-055d5095dfd2"
      },
      "source": [
        "from sklearn.metrics import classification_report,accuracy_score\n",
        "score = accuracy_score(y_valid_full,y_pred)\n",
        "score"
      ],
      "execution_count": 57,
      "outputs": [
        {
          "output_type": "execute_result",
          "data": {
            "text/plain": [
              "0.9257470348463024"
            ]
          },
          "metadata": {
            "tags": []
          },
          "execution_count": 57
        }
      ]
    }
  ]
}
